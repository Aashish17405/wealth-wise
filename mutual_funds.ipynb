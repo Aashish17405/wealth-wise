{
  "cells": [
    {
      "cell_type": "markdown",
      "metadata": {
        "id": "view-in-github",
        "colab_type": "text"
      },
      "source": [
        "<a href=\"https://colab.research.google.com/github/NagasaiPraneeth/wealth-wise/blob/main/mutual_funds.ipynb\" target=\"_parent\"><img src=\"https://colab.research.google.com/assets/colab-badge.svg\" alt=\"Open In Colab\"/></a>"
      ]
    },
    {
      "cell_type": "code",
      "execution_count": 137,
      "metadata": {
        "colab": {
          "base_uri": "https://localhost:8080/"
        },
        "id": "obcxkEOW-RPQ",
        "outputId": "f89eb3d2-b6bb-40a8-f03c-c76f75108ec5"
      },
      "outputs": [
        {
          "output_type": "stream",
          "name": "stdout",
          "text": [
            "Drive already mounted at /content/drive; to attempt to forcibly remount, call drive.mount(\"/content/drive\", force_remount=True).\n"
          ]
        }
      ],
      "source": [
        "from google.colab import drive\n",
        "drive.mount('/content/drive')"
      ]
    },
    {
      "cell_type": "code",
      "execution_count": null,
      "metadata": {
        "colab": {
          "base_uri": "https://localhost:8080/"
        },
        "id": "GT8EbHARafjO",
        "outputId": "8f1673bf-b20f-4559-e60f-465ea09e7bd3"
      },
      "outputs": [
        {
          "output_type": "stream",
          "name": "stdout",
          "text": [
            "\u001b[?25l   \u001b[90m━━━━━━━━━━━━━━━━━━━━━━━━━━━━━━━━━━━━━━━━\u001b[0m \u001b[32m0.0/2.4 MB\u001b[0m \u001b[31m?\u001b[0m eta \u001b[36m-:--:--\u001b[0m\r\u001b[2K   \u001b[91m━━━━\u001b[0m\u001b[91m╸\u001b[0m\u001b[90m━━━━━━━━━━━━━━━━━━━━━━━━━━━━━━━━━━━\u001b[0m \u001b[32m0.3/2.4 MB\u001b[0m \u001b[31m8.1 MB/s\u001b[0m eta \u001b[36m0:00:01\u001b[0m\r\u001b[2K   \u001b[91m━━━━━━━━━━━━━━━━━━━━━━━━━━━\u001b[0m\u001b[90m╺\u001b[0m\u001b[90m━━━━━━━━━━━━\u001b[0m \u001b[32m1.6/2.4 MB\u001b[0m \u001b[31m23.9 MB/s\u001b[0m eta \u001b[36m0:00:01\u001b[0m\r\u001b[2K   \u001b[90m━━━━━━━━━━━━━━━━━━━━━━━━━━━━━━━━━━━━━━━━\u001b[0m \u001b[32m2.4/2.4 MB\u001b[0m \u001b[31m24.5 MB/s\u001b[0m eta \u001b[36m0:00:00\u001b[0m\n",
            "\u001b[2K   \u001b[90m━━━━━━━━━━━━━━━━━━━━━━━━━━━━━━━━━━━━━━━━\u001b[0m \u001b[32m298.0/298.0 kB\u001b[0m \u001b[31m25.1 MB/s\u001b[0m eta \u001b[36m0:00:00\u001b[0m\n",
            "\u001b[2K   \u001b[90m━━━━━━━━━━━━━━━━━━━━━━━━━━━━━━━━━━━━━━━━\u001b[0m \u001b[32m3.1/3.1 MB\u001b[0m \u001b[31m66.5 MB/s\u001b[0m eta \u001b[36m0:00:00\u001b[0m\n",
            "\u001b[2K   \u001b[90m━━━━━━━━━━━━━━━━━━━━━━━━━━━━━━━━━━━━━━━━\u001b[0m \u001b[32m49.5/49.5 kB\u001b[0m \u001b[31m3.9 MB/s\u001b[0m eta \u001b[36m0:00:00\u001b[0m\n",
            "\u001b[?25h"
          ]
        }
      ],
      "source": [
        "%pip install -qU langchain_community pypdf"
      ]
    },
    {
      "cell_type": "code",
      "execution_count": null,
      "metadata": {
        "colab": {
          "base_uri": "https://localhost:8080/"
        },
        "collapsed": true,
        "id": "2l_iGet1at3j",
        "outputId": "1dac5f44-c096-43a5-c8b3-f2a5072a605a"
      },
      "outputs": [
        {
          "output_type": "stream",
          "name": "stdout",
          "text": [
            "Collecting rapidocr-onnxruntime\n",
            "  Downloading rapidocr_onnxruntime-1.3.25-py3-none-any.whl.metadata (1.3 kB)\n",
            "Collecting pyclipper>=1.2.0 (from rapidocr-onnxruntime)\n",
            "  Downloading pyclipper-1.3.0.post6-cp310-cp310-manylinux_2_12_x86_64.manylinux2010_x86_64.whl.metadata (9.0 kB)\n",
            "Requirement already satisfied: opencv-python>=4.5.1.48 in /usr/local/lib/python3.10/dist-packages (from rapidocr-onnxruntime) (4.10.0.84)\n",
            "Requirement already satisfied: numpy<3.0.0,>=1.19.5 in /usr/local/lib/python3.10/dist-packages (from rapidocr-onnxruntime) (1.26.4)\n",
            "Requirement already satisfied: six>=1.15.0 in /usr/local/lib/python3.10/dist-packages (from rapidocr-onnxruntime) (1.16.0)\n",
            "Requirement already satisfied: Shapely!=2.0.4,>=1.7.1 in /usr/local/lib/python3.10/dist-packages (from rapidocr-onnxruntime) (2.0.6)\n",
            "Requirement already satisfied: PyYAML in /usr/local/lib/python3.10/dist-packages (from rapidocr-onnxruntime) (6.0.2)\n",
            "Requirement already satisfied: Pillow in /usr/local/lib/python3.10/dist-packages (from rapidocr-onnxruntime) (11.0.0)\n",
            "Collecting onnxruntime>=1.7.0 (from rapidocr-onnxruntime)\n",
            "  Downloading onnxruntime-1.20.0-cp310-cp310-manylinux_2_27_x86_64.manylinux_2_28_x86_64.whl.metadata (4.4 kB)\n",
            "Requirement already satisfied: tqdm in /usr/local/lib/python3.10/dist-packages (from rapidocr-onnxruntime) (4.66.6)\n",
            "Collecting coloredlogs (from onnxruntime>=1.7.0->rapidocr-onnxruntime)\n",
            "  Downloading coloredlogs-15.0.1-py2.py3-none-any.whl.metadata (12 kB)\n",
            "Requirement already satisfied: flatbuffers in /usr/local/lib/python3.10/dist-packages (from onnxruntime>=1.7.0->rapidocr-onnxruntime) (24.3.25)\n",
            "Requirement already satisfied: packaging in /usr/local/lib/python3.10/dist-packages (from onnxruntime>=1.7.0->rapidocr-onnxruntime) (24.2)\n",
            "Requirement already satisfied: protobuf in /usr/local/lib/python3.10/dist-packages (from onnxruntime>=1.7.0->rapidocr-onnxruntime) (4.25.5)\n",
            "Requirement already satisfied: sympy in /usr/local/lib/python3.10/dist-packages (from onnxruntime>=1.7.0->rapidocr-onnxruntime) (1.13.1)\n",
            "Collecting humanfriendly>=9.1 (from coloredlogs->onnxruntime>=1.7.0->rapidocr-onnxruntime)\n",
            "  Downloading humanfriendly-10.0-py2.py3-none-any.whl.metadata (9.2 kB)\n",
            "Requirement already satisfied: mpmath<1.4,>=1.1.0 in /usr/local/lib/python3.10/dist-packages (from sympy->onnxruntime>=1.7.0->rapidocr-onnxruntime) (1.3.0)\n",
            "Downloading rapidocr_onnxruntime-1.3.25-py3-none-any.whl (14.9 MB)\n",
            "\u001b[2K   \u001b[90m━━━━━━━━━━━━━━━━━━━━━━━━━━━━━━━━━━━━━━━━\u001b[0m \u001b[32m14.9/14.9 MB\u001b[0m \u001b[31m53.0 MB/s\u001b[0m eta \u001b[36m0:00:00\u001b[0m\n",
            "\u001b[?25hDownloading onnxruntime-1.20.0-cp310-cp310-manylinux_2_27_x86_64.manylinux_2_28_x86_64.whl (13.3 MB)\n",
            "\u001b[2K   \u001b[90m━━━━━━━━━━━━━━━━━━━━━━━━━━━━━━━━━━━━━━━━\u001b[0m \u001b[32m13.3/13.3 MB\u001b[0m \u001b[31m58.1 MB/s\u001b[0m eta \u001b[36m0:00:00\u001b[0m\n",
            "\u001b[?25hDownloading pyclipper-1.3.0.post6-cp310-cp310-manylinux_2_12_x86_64.manylinux2010_x86_64.whl (912 kB)\n",
            "\u001b[2K   \u001b[90m━━━━━━━━━━━━━━━━━━━━━━━━━━━━━━━━━━━━━━━━\u001b[0m \u001b[32m912.2/912.2 kB\u001b[0m \u001b[31m42.1 MB/s\u001b[0m eta \u001b[36m0:00:00\u001b[0m\n",
            "\u001b[?25hDownloading coloredlogs-15.0.1-py2.py3-none-any.whl (46 kB)\n",
            "\u001b[2K   \u001b[90m━━━━━━━━━━━━━━━━━━━━━━━━━━━━━━━━━━━━━━━━\u001b[0m \u001b[32m46.0/46.0 kB\u001b[0m \u001b[31m4.0 MB/s\u001b[0m eta \u001b[36m0:00:00\u001b[0m\n",
            "\u001b[?25hDownloading humanfriendly-10.0-py2.py3-none-any.whl (86 kB)\n",
            "\u001b[2K   \u001b[90m━━━━━━━━━━━━━━━━━━━━━━━━━━━━━━━━━━━━━━━━\u001b[0m \u001b[32m86.8/86.8 kB\u001b[0m \u001b[31m8.5 MB/s\u001b[0m eta \u001b[36m0:00:00\u001b[0m\n",
            "\u001b[?25hInstalling collected packages: pyclipper, humanfriendly, coloredlogs, onnxruntime, rapidocr-onnxruntime\n",
            "Successfully installed coloredlogs-15.0.1 humanfriendly-10.0 onnxruntime-1.20.0 pyclipper-1.3.0.post6 rapidocr-onnxruntime-1.3.25\n"
          ]
        }
      ],
      "source": [
        "pip install rapidocr-onnxruntime"
      ]
    },
    {
      "cell_type": "code",
      "execution_count": null,
      "metadata": {
        "colab": {
          "base_uri": "https://localhost:8080/"
        },
        "collapsed": true,
        "id": "-iHmCNTIcBfL",
        "outputId": "a3be7099-60b2-4a2f-80ec-0cf197622355"
      },
      "outputs": [
        {
          "output_type": "stream",
          "name": "stdout",
          "text": [
            "Requirement already satisfied: langchain in /usr/local/lib/python3.10/dist-packages (0.3.7)\n",
            "Requirement already satisfied: langchain_community in /usr/local/lib/python3.10/dist-packages (0.3.7)\n",
            "Requirement already satisfied: PyYAML>=5.3 in /usr/local/lib/python3.10/dist-packages (from langchain) (6.0.2)\n",
            "Requirement already satisfied: SQLAlchemy<3,>=1.4 in /usr/local/lib/python3.10/dist-packages (from langchain) (2.0.35)\n",
            "Requirement already satisfied: aiohttp<4.0.0,>=3.8.3 in /usr/local/lib/python3.10/dist-packages (from langchain) (3.11.1)\n",
            "Requirement already satisfied: async-timeout<5.0.0,>=4.0.0 in /usr/local/lib/python3.10/dist-packages (from langchain) (4.0.3)\n",
            "Requirement already satisfied: langchain-core<0.4.0,>=0.3.15 in /usr/local/lib/python3.10/dist-packages (from langchain) (0.3.18)\n",
            "Requirement already satisfied: langchain-text-splitters<0.4.0,>=0.3.0 in /usr/local/lib/python3.10/dist-packages (from langchain) (0.3.2)\n",
            "Requirement already satisfied: langsmith<0.2.0,>=0.1.17 in /usr/local/lib/python3.10/dist-packages (from langchain) (0.1.143)\n",
            "Requirement already satisfied: numpy<2,>=1 in /usr/local/lib/python3.10/dist-packages (from langchain) (1.26.4)\n",
            "Requirement already satisfied: pydantic<3.0.0,>=2.7.4 in /usr/local/lib/python3.10/dist-packages (from langchain) (2.9.2)\n",
            "Requirement already satisfied: requests<3,>=2 in /usr/local/lib/python3.10/dist-packages (from langchain) (2.32.3)\n",
            "Requirement already satisfied: tenacity!=8.4.0,<10,>=8.1.0 in /usr/local/lib/python3.10/dist-packages (from langchain) (9.0.0)\n",
            "Requirement already satisfied: dataclasses-json<0.7,>=0.5.7 in /usr/local/lib/python3.10/dist-packages (from langchain_community) (0.6.7)\n",
            "Requirement already satisfied: httpx-sse<0.5.0,>=0.4.0 in /usr/local/lib/python3.10/dist-packages (from langchain_community) (0.4.0)\n",
            "Requirement already satisfied: pydantic-settings<3.0.0,>=2.4.0 in /usr/local/lib/python3.10/dist-packages (from langchain_community) (2.6.1)\n",
            "Requirement already satisfied: aiohappyeyeballs>=2.3.0 in /usr/local/lib/python3.10/dist-packages (from aiohttp<4.0.0,>=3.8.3->langchain) (2.4.3)\n",
            "Requirement already satisfied: aiosignal>=1.1.2 in /usr/local/lib/python3.10/dist-packages (from aiohttp<4.0.0,>=3.8.3->langchain) (1.3.1)\n",
            "Requirement already satisfied: attrs>=17.3.0 in /usr/local/lib/python3.10/dist-packages (from aiohttp<4.0.0,>=3.8.3->langchain) (24.2.0)\n",
            "Requirement already satisfied: frozenlist>=1.1.1 in /usr/local/lib/python3.10/dist-packages (from aiohttp<4.0.0,>=3.8.3->langchain) (1.5.0)\n",
            "Requirement already satisfied: multidict<7.0,>=4.5 in /usr/local/lib/python3.10/dist-packages (from aiohttp<4.0.0,>=3.8.3->langchain) (6.1.0)\n",
            "Requirement already satisfied: propcache>=0.2.0 in /usr/local/lib/python3.10/dist-packages (from aiohttp<4.0.0,>=3.8.3->langchain) (0.2.0)\n",
            "Requirement already satisfied: yarl<2.0,>=1.17.0 in /usr/local/lib/python3.10/dist-packages (from aiohttp<4.0.0,>=3.8.3->langchain) (1.17.1)\n",
            "Requirement already satisfied: marshmallow<4.0.0,>=3.18.0 in /usr/local/lib/python3.10/dist-packages (from dataclasses-json<0.7,>=0.5.7->langchain_community) (3.23.1)\n",
            "Requirement already satisfied: typing-inspect<1,>=0.4.0 in /usr/local/lib/python3.10/dist-packages (from dataclasses-json<0.7,>=0.5.7->langchain_community) (0.9.0)\n",
            "Requirement already satisfied: jsonpatch<2.0,>=1.33 in /usr/local/lib/python3.10/dist-packages (from langchain-core<0.4.0,>=0.3.15->langchain) (1.33)\n",
            "Requirement already satisfied: packaging<25,>=23.2 in /usr/local/lib/python3.10/dist-packages (from langchain-core<0.4.0,>=0.3.15->langchain) (24.2)\n",
            "Requirement already satisfied: typing-extensions>=4.7 in /usr/local/lib/python3.10/dist-packages (from langchain-core<0.4.0,>=0.3.15->langchain) (4.12.2)\n",
            "Requirement already satisfied: httpx<1,>=0.23.0 in /usr/local/lib/python3.10/dist-packages (from langsmith<0.2.0,>=0.1.17->langchain) (0.27.2)\n",
            "Requirement already satisfied: orjson<4.0.0,>=3.9.14 in /usr/local/lib/python3.10/dist-packages (from langsmith<0.2.0,>=0.1.17->langchain) (3.10.11)\n",
            "Requirement already satisfied: requests-toolbelt<2.0.0,>=1.0.0 in /usr/local/lib/python3.10/dist-packages (from langsmith<0.2.0,>=0.1.17->langchain) (1.0.0)\n",
            "Requirement already satisfied: annotated-types>=0.6.0 in /usr/local/lib/python3.10/dist-packages (from pydantic<3.0.0,>=2.7.4->langchain) (0.7.0)\n",
            "Requirement already satisfied: pydantic-core==2.23.4 in /usr/local/lib/python3.10/dist-packages (from pydantic<3.0.0,>=2.7.4->langchain) (2.23.4)\n",
            "Requirement already satisfied: python-dotenv>=0.21.0 in /usr/local/lib/python3.10/dist-packages (from pydantic-settings<3.0.0,>=2.4.0->langchain_community) (1.0.1)\n",
            "Requirement already satisfied: charset-normalizer<4,>=2 in /usr/local/lib/python3.10/dist-packages (from requests<3,>=2->langchain) (3.4.0)\n",
            "Requirement already satisfied: idna<4,>=2.5 in /usr/local/lib/python3.10/dist-packages (from requests<3,>=2->langchain) (3.10)\n",
            "Requirement already satisfied: urllib3<3,>=1.21.1 in /usr/local/lib/python3.10/dist-packages (from requests<3,>=2->langchain) (2.2.3)\n",
            "Requirement already satisfied: certifi>=2017.4.17 in /usr/local/lib/python3.10/dist-packages (from requests<3,>=2->langchain) (2024.8.30)\n",
            "Requirement already satisfied: greenlet!=0.4.17 in /usr/local/lib/python3.10/dist-packages (from SQLAlchemy<3,>=1.4->langchain) (3.1.1)\n",
            "Requirement already satisfied: anyio in /usr/local/lib/python3.10/dist-packages (from httpx<1,>=0.23.0->langsmith<0.2.0,>=0.1.17->langchain) (3.7.1)\n",
            "Requirement already satisfied: httpcore==1.* in /usr/local/lib/python3.10/dist-packages (from httpx<1,>=0.23.0->langsmith<0.2.0,>=0.1.17->langchain) (1.0.6)\n",
            "Requirement already satisfied: sniffio in /usr/local/lib/python3.10/dist-packages (from httpx<1,>=0.23.0->langsmith<0.2.0,>=0.1.17->langchain) (1.3.1)\n",
            "Requirement already satisfied: h11<0.15,>=0.13 in /usr/local/lib/python3.10/dist-packages (from httpcore==1.*->httpx<1,>=0.23.0->langsmith<0.2.0,>=0.1.17->langchain) (0.14.0)\n",
            "Requirement already satisfied: jsonpointer>=1.9 in /usr/local/lib/python3.10/dist-packages (from jsonpatch<2.0,>=1.33->langchain-core<0.4.0,>=0.3.15->langchain) (3.0.0)\n",
            "Requirement already satisfied: mypy-extensions>=0.3.0 in /usr/local/lib/python3.10/dist-packages (from typing-inspect<1,>=0.4.0->dataclasses-json<0.7,>=0.5.7->langchain_community) (1.0.0)\n",
            "Requirement already satisfied: exceptiongroup in /usr/local/lib/python3.10/dist-packages (from anyio->httpx<1,>=0.23.0->langsmith<0.2.0,>=0.1.17->langchain) (1.2.2)\n"
          ]
        }
      ],
      "source": [
        "pip install langchain langchain_community"
      ]
    },
    {
      "cell_type": "code",
      "execution_count": null,
      "metadata": {
        "colab": {
          "base_uri": "https://localhost:8080/"
        },
        "id": "kHhWsJRZcJr7",
        "outputId": "563ce17d-e862-4b9e-af68-8bc9493b14a8"
      },
      "outputs": [
        {
          "output_type": "stream",
          "name": "stdout",
          "text": [
            "\u001b[?25l   \u001b[90m━━━━━━━━━━━━━━━━━━━━━━━━━━━━━━━━━━━━━━━━\u001b[0m \u001b[32m0.0/108.9 kB\u001b[0m \u001b[31m?\u001b[0m eta \u001b[36m-:--:--\u001b[0m\r\u001b[2K   \u001b[91m━━━━━━━━━━━━━━━━━━━━━━━━━━━━━━━━━━━━━\u001b[0m\u001b[91m╸\u001b[0m\u001b[90m━━\u001b[0m \u001b[32m102.4/108.9 kB\u001b[0m \u001b[31m4.0 MB/s\u001b[0m eta \u001b[36m0:00:01\u001b[0m\r\u001b[2K   \u001b[90m━━━━━━━━━━━━━━━━━━━━━━━━━━━━━━━━━━━━━━━━\u001b[0m \u001b[32m108.9/108.9 kB\u001b[0m \u001b[31m2.6 MB/s\u001b[0m eta \u001b[36m0:00:00\u001b[0m\n",
            "\u001b[?25h"
          ]
        }
      ],
      "source": [
        "pip install -qU langchain-groq"
      ]
    },
    {
      "cell_type": "code",
      "execution_count": null,
      "metadata": {
        "id": "G5bnQ_3zcMYV"
      },
      "outputs": [],
      "source": [
        "import getpass\n",
        "import os\n",
        "\n",
        "os.environ[\"GROQ_API_KEY\"] = \"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\"\n",
        "\n",
        "from langchain_groq import ChatGroq\n",
        "\n",
        "llm = ChatGroq(model=\"llama3-8b-8192\")"
      ]
    },
    {
      "cell_type": "code",
      "execution_count": 257,
      "metadata": {
        "id": "NASZMiGLcUE6",
        "collapsed": true
      },
      "outputs": [],
      "source": [
        "from langchain_community.document_loaders import PyPDFLoader\n",
        "\n",
        "\n",
        "pdf_file_paths = [\n",
        "    # \"/content/drive/MyDrive/dataset/Module11_Personal-Finance.pdf\",\n",
        "    # '/content/drive/MyDrive/dataset/Horizontal-Format-of-Balance-Sheet.pdf',\n",
        "    #  '/content/drive/MyDrive/dataset/Module 10_Trading Systems.pdf',\n",
        "    # '/content/drive/MyDrive/dataset/Module 1_Introduction to Stock Markets.pdf',\n",
        "    # '/content/drive/MyDrive/dataset/Module 2_Technical Analysis.pdf',\n",
        "    # '/content/drive/MyDrive/dataset/Module 3_Fundamental Analysis.pdf',\n",
        "    # '/content/drive/MyDrive/dataset/Module 4_Futures Trading.pdf',\n",
        "    # '/content/drive/MyDrive/dataset/Module 5_Options-Theory-for-Professional-Trading.pdf',\n",
        "    # '/content/drive/MyDrive/dataset/Module 6_Option Strategies.pdf',\n",
        "    # '/content/drive/MyDrive/dataset/Module 7_Markets & Taxation.pdf',\n",
        "    # '/content/drive/MyDrive/dataset/Module 8_Currency and Commodity Futures.pdf',\n",
        "    # '/content/drive/MyDrive/dataset/Module 9_Risk Management & Trading Psychology.pdf',\n",
        "    # '/content/drive/MyDrive/dataset/Module11_Personal-Finance.pdf',\n",
        "    # '/content/drive/MyDrive/dataset/Understanding_Investments_Theories_and_Strategies.pdf',\n",
        "    # '/content/drive/MyDrive/dataset/Vertical-Form-of-Balance-Sheet.pdf',\n",
        "    # '/content/drive/MyDrive/dataset/financial management cbse.pdf',\n",
        "]\n",
        "docs=[]\n",
        "for pdf_file_path in pdf_file_paths:\n",
        "    loader = PyPDFLoader(pdf_file_path)\n",
        "    docs.append(loader.load())\n"
      ]
    },
    {
      "cell_type": "code",
      "execution_count": null,
      "metadata": {
        "id": "wXfmef1-gP-P"
      },
      "outputs": [],
      "source": [
        "def clean_document_text(docs):\n",
        "  ans=[]\n",
        "  for docums in docs:\n",
        "    ind=-2\n",
        "    for doc in docums:\n",
        "      if(ind>0):\n",
        "        var='\\n'+str(ind)\n",
        "        doc.page_content = doc.page_content.replace(var, '')\n",
        "        doc.page_content = doc.page_content.replace(str(ind), '')\n",
        "        if(ind >=121 and ind<=149):\n",
        "          doc.page_content = format_text(doc.page_content)\n",
        "        else:\n",
        "          doc.page_content= re.sub(r'\\s{3}', ' ', doc.page_content)\n",
        "\n",
        "      doc.page_content = doc.page_content.replace('\\xa0\\n', '')\n",
        "      doc.page_content = doc.page_content.replace('\\xa0', '')\n",
        "      doc.page_content = doc.page_content.replace('zerodha.com/varsity', '')\n",
        "      ind+=1\n",
        "    ans.append(docums)\n",
        "  return docs"
      ]
    },
    {
      "cell_type": "code",
      "execution_count": 258,
      "metadata": {
        "id": "evH-m920cr6e"
      },
      "outputs": [],
      "source": [
        "opt_docs=clean_document_text(docs)\n",
        "page_contents=[]\n",
        "for doc in opt_docs:\n",
        "  for d in doc:\n",
        "    page_contents.append(d.page_content)\n"
      ]
    },
    {
      "cell_type": "code",
      "execution_count": 259,
      "metadata": {
        "collapsed": true,
        "id": "K4iZYc6UfCRh"
      },
      "outputs": [],
      "source": [
        "combined_text = \"\\n\".join(page_contents)"
      ]
    },
    {
      "cell_type": "code",
      "source": [
        "combined_text"
      ],
      "metadata": {
        "colab": {
          "base_uri": "https://localhost:8080/",
          "height": 163
        },
        "collapsed": true,
        "id": "LrTkL5w4qrvB",
        "outputId": "0f32c992-0e97-4a7f-be26-305cbbb22e59"
      },
      "execution_count": 260,
      "outputs": [
        {
          "output_type": "execute_result",
          "data": {
            "text/plain": [
              "'chapter \\n9\\n When TaTa STeel acquired \\ncoruS\\nTata Steel, the biggest steel producer \\nin the Indian private sector has \\nacquired Corus, (formerly known as \\nBritish Steel) in a deal worth $8.6 \\nbillion in 2007. A financial decision \\nof this magnitude has significant \\nimplicitness for both Tata Steel and \\nCorus as well as their employees \\nand shareholders. To mention some \\nof them:\\n�\\tTata Steel raised a debt of over $8 \\nbillion to finance the transaction. \\nThe deal will be paid for by Tata \\nSteel UK, a special purpose vehicle \\n(SPV) set up for the purpose. \\nAnother company of the Tata \\ngroup, Tata Sons Ltd., invested \\n$ 1 billion dollars for preference \\nshares along with Tata Steel which \\nwill invest an equal amount. \\n�\\tTata Steel, the acquirer company, \\narranged about 36,500 crores of \\nrupees to finance the take-over.\\n�\\tTata Steel raised this amount \\nthrough debt or equity or a \\ncombination of both. Some amount \\ncame from internal accruals \\nalso. This financing decision \\naffected the capital structure of \\nthe acquirer.\\n Source: The Economic Times\\nLearning Objectives\\nAfter studying this chapter, you \\nshould be able to:\\n ¾ explain the meaning of \\nbusiness finance; \\n ¾ describe financi\\nal  \\nmanagement;\\n ¾ explain the role of financial \\nmanagement in our\\n \\nenterprise;\\n ¾ discuss objectives of \\nfinancial management \\nand \\nhow they could be achieved;\\n ¾ explain the meaning and \\nimportance of financial \\nplanning;\\n ¾ state the meaning of capital \\nstructure;\\n ¾ analyse the \\nfactors affecting \\nthe choice of an appropriate \\ncapital structure; \\n ¾ state meaning of fixed\\n capital \\nand working capital; and\\n ¾ analyse the \\nfactors affecting \\nthe requirement of fixed and \\nworking capital.\\nFinancial ManageMenT\\nCh_9.indd   215 2/6/2024   09:51:33 AM\\n2024-25\\n\\nFINANCIAL MANAgeMeNTS\\n217\\nBUSINeSS  STUDIeS\\n216\\nthus, very crucial for the survival and \\ngrowth of a business.\\nFinancial ManageMenT\\nAll finance comes at some cost. It \\nis quite imperative that it needs to \\nbe carefully managed. Financial \\nManagement is concerned with optimal \\nprocurement as well as the usage of \\nfinance. For optimal procurement, \\ndifferent available sources of finance \\nare identified and compared in terms \\nof their costs and associated risks. \\nSimilarly, the finance so procured \\nneeds to be invested in a manner that \\nthe returns from the investment exceed \\nthe cost at which procurement has \\ntaken place. Financial Management \\naims at reducing the cost of funds \\nprocured, keeping the risk under \\ncontrol and achieving effective \\ndeployment of such funds. It also \\naims at ensuring availability of enough \\nfunds whenever required as well as \\navoiding idle finance. Needless to \\nemphasise, the future of a business \\ndepends a great deal on the quality of \\nits financial management.\\nImportance: The role of financial \\nmanagement cannot be over-\\nemphasised, since it has a direct \\nbearing on the financial health of a \\nbusiness. The financial statements, \\nsuch as Balance Sheet and Profit \\nand Loss Account, reflect a firm’s \\nfinancial position and its financial \\nhealth. Almost all items in the financial \\nstatements of a business are affected \\ndirectly or indirectly through some \\nfinancial management decisions. Some \\ninTroducTion\\nIn the above case, these decisions \\nrequire careful financial planning, \\nan understanding of the resultant \\ncapital structure and the riskiness \\nand profitability of the enterprise. All \\nthese have a bearing on shareholders \\nas well as employees. They require \\nan understanding of business \\nfinance, major financial decision \\nareas, financial risk, and working \\ncapital requirements of the business. \\nFinance, as we all know, is essential \\nfor running a business. Success of \\nbusiness depends on how well finance \\nis invested in assets and operations \\nand how timely and cheaply the \\nfinances are arranged, from outside \\nor from within the business.  \\nMeaning oF BuSineSS Finance\\nMoney required for carrying out \\nbusiness activities is called business \\nfinance. Almost all business activities \\nrequire some finance. Finance is \\nneeded to establish a business, to \\nrun it, to modernise it, to expand, or \\ndiversify it. It is required for buying \\na variety of assets, which may be \\ntangible like machinery, factories, \\nbuildings, offices; or intangible such \\nas trademarks, patents, technical \\nexpertise, etc. Also, finance is central \\nto running the day-to-day operations \\nof business, like buying material, \\npaying bills, salaries, collecting cash \\nfrom customers, etc. needed at every \\nstage in the life of a business entity. \\nAvailability of adequate finance is, \\nCh_9.indd   216 10-08-2022   09:09:51\\n2024-25\\n\\nFINANCIAL MANAgeMeNTS\\n217\\nBUSINeSS  STUDIeS\\n216\\nprominent examples of the aspects \\nbeing affected could be as under:\\n (i) The si\\nze and the composition of \\nfixed assets of the business: For \\nexample, a capital budgeting \\ndecision to invest a sum of Rs. 100 \\ncrores in fixed assets would raise \\nthe size of fixed assets block by this \\namount.\\n( ii) The quantum of current assets and \\nits break-up into cash, inventory \\nand \\nreceivables: With an increase \\nin the investment in fixed assets, \\nthere is a commensurate increase \\nin the working capital requirement. \\nThe quantum of current assets \\nis also influenced by financial \\nmanagement decisions. In addition, \\ndecisions about credit and inventory \\nmanagement affect the amount of \\ndebtors and inventory which in \\nturn affect the total current assets \\nas well as their composition.\\n( iii) The amount of long-ter\\nm and \\nshort- term funds to be used:  \\nFinancial management, among \\nothers, involves decision about \\nthe proportion of long-term and \\nshort-term funds. An organisation \\nwanting to have more liquid assets \\nwould raise relatively more amount \\non a long-term basis. There is \\na choice between liquidity and \\nprofitability. The underlying \\nassumption here is that current \\nliabilities cost less than long term \\nliabilities.\\n( iv) Break-\\nup of long-term financing into \\ndebt, equity etc: Of the total long- \\nterm finance, the proportions to be \\nraised by way of debt and/or equity \\nis also a financial management \\ndecision. The amounts of debt, \\nequity share capital, preference \\nshare capital are affected by the \\nfinancing decision, which is a part \\nof financing management.\\n( v) All items in the Profit and Loss \\nAccount, e.g., Interest, Expense,\\n \\nDepreciation, etc. : Higher amount \\nof debt means higher interest \\nexpense in future. Similarly, use \\nof higher equity may entail higher \\npayment of dividends. Similarly, an \\nexpansion of business which is a \\nresult of capital budgeting decision \\nis likely to affect virtually all items \\nin the profit and loss account of the \\nbusiness.\\nIt can, thus, be stated that the \\nfinancial statements of a business \\nare largely determined by financial \\nmanagement decisions taken earlier. \\nSimilarly, the future financial \\nstatements would depend upon past \\nas well as current financial decisions. \\nThus, the overall financial health \\nof a business is determined by the \\nquality of its financial management. \\nGood financial management aims at \\nmobilisation of financial resources at \\na lower cost and deployment of these \\nin most lucrative activities.\\noBjecTiveS\\nThe primary aim of financial \\nmanagement is to maximise  \\nshareholders’ wealth, which is referred \\nto as the wealth-maximisation concept. \\nThe market price of a company’s shares \\nCh_9.indd   217 10-08-2022   09:09:51\\n2024-25\\n\\nFINANCIAL MANAgeMeNTS\\n29\\nBUSINeSS  STUDIeS\\n28\\nis linked to the three basic financial \\ndecisions which you will study a little \\nlater. This is because a company funds \\nbelong to the shareholders and the \\nmanner in which they are invested and \\nthe return earned by them determines \\ntheir market value and price. It means \\nmaximisation of the market value of \\nequity shares. The market price of \\nequity share increases, if the benefit \\nfrom a decision exceeds the cost \\ninvolved. All financial decisions aim at \\nensuring that each decision is efficient \\nand adds some value. Such value \\nadditions tend to increase the market \\nprice of shares. Therefore, those \\nfinancial decisions are taken which \\nwill ultimately prove gainful from \\nthe point of view of the shareholders. \\nThe shareholders gain if the value of \\nshares in the market increases. Those \\ndecisions which result in decline in \\nthe share price are poor financial \\ndecisions. Thus, we can say, the \\nobjective of financial management is \\nto maximise the current price of equity \\nshares of the company or to maximise \\nthe wealth of owners of the company, \\nthat is, the shareholders.\\nTherefore, when a decision is taken \\nabout investment in a new machine, \\nthe aim of financial management \\nis to ensure that benefits from the \\ninvestment exceed the cost so that \\nsome value addition takes place. \\nSimilarly, when finance is procured, \\nthe aim is to reduce the cost so that \\nthe value addition is even higher.\\nIn fact, in all financial decisions, \\nmajor or minor, the ultimate objective \\nthat guides the decision-maker is that \\nsome value addition should take place. \\nAll those avenues of investment, modes \\nof financing, ways of handling various \\ncomponents of working capital must \\nbe identified which will ultimately lead \\nto an increase in the price of equity \\nshare. It can happen through efficient \\ndecision-making. Decision-making is \\nefficient if, out of the various available \\nalternatives, the best is selected.\\nFinancial deciSionS\\nFinancial management is concerned \\nwith the solution of three major issues \\nrelating to the financial operations \\nof a firm corresponding to the three \\nquestions of investment, financing \\nand divident decision. In a financial \\ncontext, it means the selection of \\nbest financing alternative or best \\ninvestment alternative. The finance \\nfunction, therefore, is concerned \\nwith three broad decisions which are \\nexplained below:\\ninvestment Decision\\nA firm’s resources are scarce in \\ncomparison to the uses to which \\nthey \\ncan be put. A firm, therefore, \\nhas to choose where to invest these \\nresources, so that they are able to earn \\nthe highest possible return for their \\ninvestors. The investment decision, \\ntherefore, relates to how the firm’s \\nfunds are invested in different assets.\\nInvestment decision can be long-\\nterm or short-term. A long-term \\ninvestment decision is also called a \\nCapital Budgeting decision. It involves \\ncommitting the finance on a long-\\nCh_9.indd 28 0-08-2022 09:09:5\\n2024-25\\n\\nFINANCIAL MANAgeMeNTS19\\nBUSINeSS  STUDIeS18\\nterm basis. For example, making \\ninvestment in a new machine to \\nreplace an existing one or acquiring \\na new fixed asset or opening a new \\nbranch, etc. These decisions are very \\ncrucial for any business since they \\naffect its earning capacity in the long \\nrun. The size of assets, profitability \\nand competitiveness are all affected by \\ncapital budgeting decisions. Moreover, \\nthese decisions normally involve \\nhuge amounts of investment and are \\nirreversible except at a huge cost. \\nTherefore, once made, it is often almost \\nimpossible for a business to wriggle out \\nof such decisions. Therefore, they need \\nto be taken with utmost care. These \\ndecisions) are concerned with the \\ndecisions about the levels of cash, \\ninventory and receivables. These \\ndecisions affect the day-to-day \\nworking of a business. These affect \\nthe liquidity as well as profitability of a \\nbusiness. Efficient cash management, \\ninventory management and receivables \\nmanagement are essential ingredients \\nof sound working capital management.\\nFactors affecting Capital \\nBudgeting Decision\\nA number of projects are often available \\nto a business to invest in. But each \\nproject has to be evaluated carefully \\nand, depending upon the returns, a \\nparticular project is either selected or \\nrejected. If there is only one project, its \\nviability in terms of the rate of return, \\nviz., investment and its comparability \\nwith the industry’s average is seen. \\nThere are certain factors which affect \\ncapital budgeting decisions.\\n(a) Cash flo\\nws of the project: When \\na company takes an investment \\ndecision involving huge amount \\nit expects to generate some cash \\nflows over a period. These cash \\nflows are in the form of a series \\nof cash receipts and payments \\nover the life of an investment. \\nThe amount of these cash flows \\nshould be carefully analysed before \\nconsidering a capital budgeting \\ndecision.\\n(b) The rate of return: The most important criterion is the rate \\nof return of the project. These \\ncalculations are based on the \\nWealth Maximisation Concept\\ndecisions must be taken by those who \\nunderstand them comprehensively. \\nA bad capital budgeting decision \\nnormally has the capacity to severely \\ndamage the financial fortune of a \\nbusiness. Short-term investment \\ndecisions (also called working capital \\nCh_9.indd 19 10-08-0 09:09:5104-5\\n\\nFINANCIAL MANAgeMeNTS\\n221\\nBUSINeSS  STUDIeS\\n220\\nexpected returns from each \\nproposal and the assessment of \\nthe risk involved. Suppose, there \\nare two projects, A and B (with the \\nsame risk involved), with a rate \\nof return of 10 per cent and 12 \\nper cent, respectively, then under \\nnormal circumstance, project B \\nshould be selected.\\n(c) The investment criteria involved: The decisi\\non to invest in a particular \\nproject involves a number of \\ncalculations regarding the amount \\nof investment, interest rate, cash \\nflows and rate of return. There are \\ndifferent techniques to evaluate \\ninvestment proposals which \\nare known as capital budgeting \\ntechniques. These techniques are \\napplied to each proposal before \\nselecting a particular project.\\nFinancing Decision\\nThis decision is about the quantum \\nof finance to be raised from various long-term sources. Short-term sources \\nare studied under the ‘working capital \\nmanagement’.\\nIt involves identification of various \\navailable sources. The main sources \\nof funds for a firm are shareholders’ \\nfunds and borrowed funds. The \\nshareholders’ funds refer to the equity \\ncapital and the retained earnings. \\nBorrowed funds refer to the finance \\nraised through debentures or other \\nforms of debt. A firm has to decide the \\nproportion of funds to be raised from \\neither sources, based on their basic \\ncharacteristics. Interest on borrowed \\nfunds have to be paid regardless of \\nwhether or not a firm has earned a \\nprofit. Likewise, the borrowed funds \\nhave to be repaid at a fixed time. The \\nrisk of default on payment is known \\nas financial risk which has to be \\nconsidered by a firm likely to have \\ninsufficient shareholders to make \\nthese fixed payments. Shareholders’ \\nfunds, on the other hand, involve no \\ncommitment regarding the payment \\nof returns or the repayment of capital. \\nA firm, therefore, needs to have a \\njudicious mix of both debt and equity \\nin making financing decisions, which \\nmay be debt, equity, preference share \\ncapital, and retained earnings.\\nThe cost of each type of finance has \\nto be estimated. Some sources may \\nbe cheaper than others. For example, \\ndebt is considered to be the cheapest \\nof all the sources, tax deductibility \\nof interest makes it still cheaper. \\nAssociated risk is also different for \\neach source, e.g., it is necessary to \\npay interest on debt and redeem the \\nprincipal amount on maturity. There \\nis no such compulsion to pay any \\ndividend on equity shares. Thus, there \\nis some amount of financial risk in \\ndebt financing. The overall financial \\nrisk depends upon the proportion of \\ndebt in the total capital. The fund \\nraising exercise also costs something. \\nThis cost is called floatation cost. \\nIt also must be considered while \\nevaluating different sources. Financing \\ndecision is, thus, concerned with the \\ndecisions about how much to be raised \\nfrom which source. This decision \\ndetermines the overall cost of capital \\nand the financial risk of the enterprise.\\nCh_9.indd 220 10-08-2022 09:09:51\\n2024-25\\n\\nFINANCIAL MANAgeMeNTS\\n221\\nBUSINeSS  STUDIeS\\n220\\nFactors Affecting Financing \\nDecisions\\nThe financing decisions are affected \\nby various factors. Important among \\nthem are as follows:\\n(a) Cos\\nt: The cost of raising funds \\nthrough different sources are \\ndifferent. A prudent financial \\nmanager would normally opt for a \\nsource which is the cheapest.\\n(b) Risk: The risk associated with each \\nof the sources is different.\\n(c) Floatation Costs: Higher the floatation cost, less attractive the source.\\nFinancial Decisions\\nCh_9.indd 221 10-08-2022 09:09:52\\n202-25\\n\\nFinancial ManageMents\\n223\\nBUsiness  stUDies\\n222\\n(d) Cash Flow Position of the Company: \\nA stronger cash flow position \\nmay \\nmake debt financing more viable \\nthan funding through equity.\\n(e) Fixed Operating Costs: If a business \\nhas \\nhigh fixed operating costs (e.g., \\nbuilding rent, Insurance premium, \\nSalaries, etc.), It must reduce fixed \\nfinancing costs. Hence, lower debt \\nfinancing is better. Similarly, if \\nfixed operating cost is less, more \\nof debt financing may be preferred.\\n(f) Control Considerations: issues of \\nmore equity may \\nlead to dilution \\nof management’s control over \\nthe business. Debt financing has \\nno such implication. Companies \\nafraid of a takeover bid would \\nprefer debt to equity.\\n(g) State of Capital Market: Health of \\nthe capital market \\nmay also affect \\nthe choice of source of fund. During \\nthe period when stock market is \\nrising, more people invest in equity. \\nHowever, depressed capital market \\nmay make issue of equity shares \\ndifficult for any company.\\nDividend Decision\\nThe third important decision that \\nevery financial manager has to \\ntake relates to the distribution of \\ndividend. Dividend is that portion \\nof profit which is distributed to \\nshareholders. The decision involved \\nhere is how much of the profit earned \\nby company (after paying tax) is to be \\ndistributed to the shareholders and \\nhow much of it should be retained \\nin the business. While the dividend \\nconstitutes the current income \\nre-investment as retained earning \\nincreases the firm’s future earning \\ncapacity. The extent of retained \\nearnings also influences the financing \\ndecision of the firm. Since the firm \\ndoes not require funds to the extent \\nof re-invested retained earnings, the \\ndecision regarding dividend should \\nbe taken keeping in view the overall \\nobjective of maximising shareholder’s \\nwealth.\\nFactors Affecting Dividend \\nDecision\\nHow much of the profits earned by a \\ncompany will be distributed as profit \\nand how much will be retained in the \\nbusiness is affected by many factors. \\nSome of the important factors are \\ndiscussed as follows:\\n(a) Amount of Earnings: Dividends \\nare paid \\nout of current and past \\nearning. Therefore, earnings is a \\nmajor determinant of the decision \\nabout dividend. \\n(b) Stability Earnings: Other things \\nremai\\nning the same, a company \\nhaving stable earning is in a better \\nposition to declare higher dividends. \\nAs against this, a company having \\nunstable earnings is likely to pay \\nsmaller dividend.\\n(c) Stability of Dividends: Companies \\ngenerally follow a policy \\nof \\nstabilising dividend per share. The \\nincrease in dividends is generally \\nmade when there is confidence that \\nCh_9.indd 222 1/23/2024 03:1:22 PM\\n2024-2\\n\\nFinancial ManageMents\\n223\\nBUsiness  stUDies\\n222\\ntheir earning potential has gone \\nup and not just the earnings of \\nthe current year. In other words, \\ndividend per share is not altered if \\nthe change in earnings is small or \\nseen to be temporary in nature.\\n(d) Growth Opportunities: Companies \\nhaving good growth \\nopportunities \\nretain more money out of their \\nearnings so as to finance the \\nrequired investment. The dividend \\nin growth companies is, therefore, \\nsmaller, than that in the non–\\ngrowth companies.\\n(e) Cash Flow Position: The payment \\nof dividend involves \\nan outflow of \\ncash. A company may be earning \\nprofit but may be short on cash. \\nAvailability of enough cash in \\nthe company is necessary for \\ndeclaration of dividend.\\n(f) Shareholders’ Preference: \\nWhile \\ndeclaring dividends, managements \\nmust keep in mind the preferences \\nof the shareholders in this regard. If \\nthe shareholders in general desire \\nthat at least a certain amount is \\npaid as dividend, the companies \\nare likely to declare the same. There \\nare always some shareholders who \\ndepend upon a regular income \\nfrom their investments.\\n(g) Taxation Policy: The choice between the payment of dividend and \\nretaining the earnings is, to some \\nextent, affected by the difference in \\nthe tax treatment of dividends and \\ncapital gains. If tax on dividend is \\nhigher, it is better to pay less by \\nway of dividends. As compared \\nto this, higher dividends may be \\ndeclared if tax rates are relatively \\nlower. Though the dividends are free \\nof tax in the hands of shareholders, \\na dividend distribution tax is levied \\non companies. Thus, under the \\npresent tax policy, shareholders \\nare likely to prefer higher dividends.\\n(h) Stock Market Reaction: Investors, \\nin general, view \\nan increase in \\ndividend as a good news and \\nstock prices react positively to it. \\nSimilarly, a decrease in dividend \\nmay have a negative impact on the \\nshare prices in the stock market. \\nThus, the possible impact of \\ndividend policy on the equity share \\nprice is one of the important factors \\nconsidered by the management \\nwhile taking a decision about it.\\n(i) Access to Capital Market: Large and \\nreputed companies \\ngenerally have \\neasy access to the capital market \\nand, therefore, may depend less \\non retained earning to finance \\ntheir growth. These companies \\ntend to pay higher dividends than \\nthe smaller companies which have \\nrelatively low access to the market.\\n(j) Legal Constraints: Certain \\nprovisions of \\nthe Companies Act \\nplace restrictions on payouts as \\ndividend. Such provisions must \\nbe adhered to while declaring the \\ndividend.\\n(k) Contractual Constraints: While \\ngranting loans to \\na company, \\nsometimes the lender may impose \\nCh_9.indd 223 1/23/2024 03:51:22 PM\\n2024-25\\n\\nFinancial ManageMents\\n225\\nBUsiness  stUDies\\n224\\ncertain restrictions on the payment \\nof dividends in future. The \\ncompanies are required to ensure \\nthat the dividend does not violate \\nthe terms of the loan agreement in \\nthis regard.\\nFinancial Planning\\nFinancial planning is essentially the preparation of a financial blueprint of \\nan organisation’s future operations. \\nThe objective of financial planning \\nis to ensure that enough funds are \\navailable at right time. If adequate \\nfunds are not available the firm will \\nnot be able to honour its commitments \\nand carry out its plans. On the other \\nhand, if excess funds are available, it \\nwill unnecessarily add to the cost and \\nmay encourage wasteful expenditure. \\nIt must be kept in mind that financial \\nplanning is not equivalent to, or a \\nsubstitute for, financial management. \\nFinancial management aims at \\nchoosing the best investment and \\nfinancing alternatives by focusing on \\ntheir costs and benefits. Its objective \\nis to increase the shareholders’ wealth.\\nFinancial planning on the other \\nhand aims at smooth operations \\nby focusing on fund requirements \\nand their availability in the light of \\nfinancial decisions. For example, if a \\ncapital budgeting decisions is taken, \\nthe operations are likely to be at a \\nhigher scale. The amount of expenses \\nand revenues are likely to increase. \\nFinancial planning process tries to \\nforecast all the items which are likely \\nto undergo changes. It enables the \\nmanagement to foresee the fund \\nrequirements both the quantum as \\nwell as the timing. Likely shortage \\nand surpluses are forecast so that \\nnecessary activities are taken in \\nadvance to meet those situations. \\nThus, financial planning strives to \\nachieve the following twin objectives.\\n(a) To ensure availability of funds \\nwhenever requir\\ned: This include \\na proper estimation of the funds \\nrequired for different purposes \\nsuch as for the purchase of long-\\nterm assets or to meet day-to-\\nday expenses of business etc. \\nApart from this, there is a need to \\nestimate the time at which these \\nfunds are to be made available. \\nFinancial planning also tries to \\nspecify possible sources of these \\nfunds. \\n(b) To see tha\\nt the firm does not \\nraise resources unnecessarily: Excess funding is almost as bad \\nas inadequate funding. Even if \\nthere is some surplus money, good \\nfinancial planning would put it to \\nthe best possible use so that the \\nfinancial resources are not left idle \\nand don’t unnecessarily add to the cost.\\nThus, a proper matching of funds \\nrequirements and their availability \\nis sought to be achieved by financial \\nplanning. This process of estimating \\nthe fund requirement of a business \\nand specifying the sources of funds \\nCh_9.indd 224 1/23/2024 03:51:22 PM\\n2024-25\\n\\nFinancial ManageMents\\n225\\nBUsiness  stUDies\\n224\\nis called financial planning. Financial \\nplanning takes into consideration the \\ngrowth, performance, investments \\nand requirement of funds for a given \\nperiod. Financial planning includes \\nboth short-term as well as long-term \\nplanning. Long-term planning relates \\nto long term growth and investment. \\nIt focuses on capital expenditure \\nprogrammes. Short-term planning \\ncovers short-term financial plan called \\nbudget.\\nTypically, financial planning is \\ndone for three to five years. For longer \\nperiods it becomes more difficult and \\nless useful. Plans made for periods of \\none year or less are termed as budgets. \\nBudgets are example of financial \\nplanning exercise in greater details. \\nThey include detailed plan of action \\nfor a period of one year or less. \\nFinancial planning usually begins \\nwith the preparation of a sales  forecast. \\nLet us suppose a company is making \\na financial plan for the next five years. \\nIt will start with an estimate of the \\nsales which are likely to happen in \\nthe next five years. Based on these, \\nthe financial statements are prepared \\nkeeping in mind the requirement \\nof funds for investment in the fixed \\ncapital and working capital. Then the \\nexpected profits during the period are \\nestimated so that an idea can be made \\nof how much of the fund requirements \\ncan be met internally i.e., through \\nretained earnings (after dividend \\npayouts). This results in an estimation \\nof the requirement for external funds. \\nFurther, the sources from which the \\nexternal funds requirement can be \\nmet are identified and cash budgets \\nare made, incorporating these factors.\\nimPortance\\nFinancial planning is an important \\npart of overall planning of any business \\nenterprise. It aims at enabling the \\ncompany to tackle the uncertainty in \\nrespect of the availability and timing \\nof the funds and helps in smooth \\nfunctioning of an organisation. The \\nimportance of financial planning can \\nbe explained as follows:\\n (i) It helps in forecasting what \\nmay \\nhappen in future under different \\nbusiness situations. By doing so, it \\nhelps the firms to face the eventual \\nsituation in a better way. In other \\nwords, it makes the firm better \\nprepared to face the future. For \\nexample, a growth of 20% in sales is \\npredicted. However, it may happen \\nthat the growth rate eventually \\nturns out to be 10% or 30%. \\nMany items of expenses shall be \\ndifferent in these three situations. \\nBy preparing a blueprint of these \\nthree situations the management \\nmay decide what must be done \\nin each of these situations. This \\npreparation of alternative financial \\nplans to meet different situations is \\nclearly of immense help in running \\nthe business smoothly.\\n (ii) It helps \\nin avoiding business \\nshocks and surprises and helps \\nCh_9.indd 225 1/23/2024 03:51:22 PM\\n2024-25\\n\\nFinancial ManageMents\\n227\\nBUsiness  stUDies\\n226\\nthe company in preparing for the \\nfuture.\\n (iii) If helps in co-ordinating various business functions, e.g., sales and \\nproduction functions, by providing \\nclear policies and procedures.\\n (iv) Detailed plans of action prepared \\nunder \\nfinancial planning reduce \\nwaste, duplication of efforts, and \\ngaps in planning.\\n (v) It tries to link the \\npresent with the \\nfuture.\\n (vi) It provides a link between \\ninvest\\nment and financing decisions \\non a continuous basis.\\n (vii) By spelli\\nng out detailed objectives \\nfor various business segments, it \\nmakes the evaluation of actual \\nperformance easier.\\ncaPital Structure\\nOne of the important decisions under \\nfinancial management relates to the \\nfinancing pattern or the proportion of \\nCutting Back on Debt\\nEven successful businesses have debt, but how much is too much? Learning how \\nto manage debt is what can put you ahead.\\nTaking on the right amount of debt can mean the difference between a business \\nstruggling to survive and one that can respond nimbly to changing economic or \\nmarket conditions. A number of circumstances may justify acquiring debt. As a \\ngeneral rule, borrowing makes the most sense when you need to bolster cash flow \\nor finance growth or expansion. But while debt can provide the leverage you need \\nto grow, too much debt can strangle your business. So the question is: How much \\ndebt is too much?\\nThe answer, experts say, lies in a careful analysis of your cash flow as well as \\nyour industry. A business that doesn’t grow dies. You’ve got to grow, but you’ve got \\nto grow within the financial constraints of your business. What is the ideal capital \\nstructure a business needs in its industry to remain viable? The higher the volatility \\n(in your industry), the less debt you should have. The smaller the volatility, the more \\ndebt you can afford.\\nAlthough banks and other financial institutions look for a satisfactory debt-to-\\nequity ratio before agreeing to make a loan, don’t assume a creditor’s willingness \\nto extend funds is evidence that your business is in a strong debt position. Some \\nfinancial institutions are overzealous lenders, particularly when trying to lure or hold \\non to promising business customers. “The bank may be looking more at collateral \\nthan whether the (business’s) earnings are going to come in to justify the debt service.\\nTo avoid these and other credit pitfalls, it’s up to you to get the financial facts \\non your business and make sound borrowing decisions. Unfortunately, many \\nentrepreneurs fail to recognise how important financial analysis is to running a \\nsuccessful business. Even business owners who receive detailed financial statements \\nfrom their accountants often do not take advantage of the valuable information \\ncontained in the documents.\\nCh_.indd 226 1/23/2024 03:51:22 PM\\n2024-25\\n\\nFinancial ManageMents\\n227\\nBUsiness  stUDies\\n226\\nthe use of different sources in raising \\nfunds. On the basis of ownership, the \\nsources of business finance can be \\nbroadly classified into two categories \\nviz., ‘owners’ funds’ and ‘borrowed \\nfunds’. Owners’ funds consist of \\nequity share capital, preference share \\ncapital and reserves and surpluses or \\nretained earnings. Borrowed funds can \\nbe in the form of loans, debentures, \\npublic deposits etc. These may be \\nborrowed from banks, other financial \\ninstitutions, debentureholders and \\npublic.\\n Capital structure refers to the \\nmix \\nbetween owners and borrowed funds. \\nThese shall be referred as equity and \\ndebt in the subsequent text. It can \\nbe calculated as debt-equity ratio \\ni.e.,\\nDebt\\nEquity\\n\\uf8eb\\n\\uf8ed\\uf8ec\\n\\uf8f6\\n\\uf8f8\\uf8f7  or as the proportion \\nof debt out of the total capital i.e., \\nDebt\\nDebt +E quity\\n\\uf8eb\\n\\uf8ed\\uf8ec\\n\\uf8f6\\n\\uf8f8\\uf8f7 . \\nDebt and equity differ significantly \\nin their cost and riskiness for the \\nfirm. The cost of debt is lower than \\nthe cost of equity for a firm because \\nthe lender’s risk is lower than the \\nequity shareholder’s risk, since the \\nlender earns an assured return and \\nrepayment of capital and, therefore, \\nthey should require a lower rate of \\nreturn. Additionally, interest paid \\non debt is a deductible expense for \\ncomputation of tax liability whereas \\ndividends are paid out of after-tax \\nprofit. Increased use of debt, therefore, \\nis likely to lower the over-all cost of \\ncapital of the firm provided that the \\ncost of equity remains unaffected. \\nImpact of a change in the debt-equity \\nratio upon the earning per share is \\ndealt with in detail later in this chapter.\\nDebt is cheaper but is more risky \\nfor a business because the payment of \\ninterest and the return of principal is \\nobligatory for the business. Any default \\nin meeting these commitments may \\nforce the business to go into liquidation. \\nThere is no such compulsion in case of \\nequity, which is therefore, considered \\nriskless for the business. Higher use \\nof debt increases the fixed financial \\ncharges of a business. As a result, \\nincreased use of debt increases the \\nfinancial risk of a company.\\nFinancial risk is the chance that \\na firm would fail to meet its payment \\nobligations.\\nCapital structure of a company, \\nthus, affects both the profitability and \\nthe financial risk. A capital structure \\nwill be said to be optimal when the \\nproportion of debt and equity is \\nsuch that it results in an increase \\nin the value of the equity share. In \\nother words, all decisions relating to \\ncapital structure should emphasise on \\nincreasing the shareholders’ wealth. \\nThe proportion of debt in the overall \\ncapital is also called financial leverage. \\nFinancial leverage is computed as D\\nE or\\nD\\nD+ E  when D is the Debt and E is \\nthe Equity. As the financial leverage \\nCh_9.indd 227 1/23/2024 03:51:23 PM\\n2024-25\\n\\nFinancial ManageMents\\n229\\nBUsiness  stUDies\\n228\\nincreases, the cost of funds declines \\nbecause of increased use of cheaper \\ndebt but the financial risk increases. \\nThe impact of financial leverage on the \\nprofitability of a business can be seen \\nthrough EBIT-EPS (Earning before \\nInterest and Taxes-Earning per Share) \\nanalysis as in the following example.\\n Three situations are considered. There is no debt in situation-I i.e. \\n(unlevered business). Debt of Rs. 10 \\nlakh and 20 lakh are assumed in \\nsituations-II and III, respectively. All \\ndebt is at 10% p.a.\\n The company earns Rs. 0.93 \\nper \\nshare if it is unlevered. With debt of \\nRs. 10 lakh its EPS is Rs. 1.05. With \\na still higher debt of Rs. 20 lakh, its, \\nEPS rises to Rs. 1.40. Why is the EPS \\nrising with higher debt? It is because \\nthe cost of debt is lower than the return \\nthat company is earning on funds \\nemployed. The company is earning a \\nReturn on Investment (RoI).\\nExample I\\nCompany X Ltd.\\n Total Funds used Rs. 30 Lakh\\n Interest rate 10% p.a.\\n Tax rate 30%\\n EBIT Rs. 4 Lakh\\n Debt\\n s ituation i nil\\n Situation II Rs. 10 Lakh\\n Situation III Rs. 20 Lakh\\nEBIT-EPS Analysis Situation I Situation II Situation III EBIT  4,00,000  4,00,000 4,00,000\\n Interest NIL 1,00,000 2,00,000\\n EBT  4,00,000 3,00,000 2,00,000\\n (Earnings before taxes)\\n Tax 1,20,000 90,000 60,000\\n EAT 2,80,000 2,10,000 1,40,000\\n (Earnings after taxes)\\n No. of shares of Rs.10 3,00,000 2,00,000 1,00,000\\n EPS 0.93 1.05 1.40\\n (Earnings per share)\\nCh_9.indd 228 2/6/2024 :23:29 AM\\n2024-25\\n\\nFinancial ManageMents\\n229\\nBUsiness  stUDies\\n228\\nof 13.33% EBIT\\nTotalI nvestment 100×\\uf8eb\\n\\uf8ed\\uf8ec\\n\\uf8f6\\n\\uf8f8\\uf8f7 ,\\n4Lakh\\n30Lakh 100×\\uf8eb\\n\\uf8ed\\uf8ec \\uf8f6\\n\\uf8f8\\uf8f7 . This is higher than \\nthe 10% interest it is paying on debt \\nfunds. With higher use of debt, this \\ndifference between RoI and cost of debt \\nincreases the EPS. This is a situation \\nof favourable financial leverage. In \\nsuch cases, companies often employ \\nmore of cheaper debt to enhance the \\nEPS. Such practice is called Trading \\non Equity.\\n Trading on E quity refers to the \\nincrease in profit earned by the equity \\nshareholders due to the presence of \\nfixed financial charges like interest. Now consider the following case \\nof \\nCompany Y. All details are the same \\nexcept that the company is earning \\na profit before interest and taxes of Rs. 2 lakh.\\nExample II\\nCompany Y Ltd. situation i s ituation ii s ituation iii\\n EBIT 2,00,000  2,00,000 2,00,000\\n Interest  NIL 1,00,000 2,00,000\\n EBT 2,00,000 1,00,000 NIL\\n Tax 60,000 30,000  NIL\\n EAT 1,40,000 70,000 NIL\\n No. of shares of Rs.10  3,00,000 2,00,000 1,00,000\\n EPS 0.47 0.35 NIL\\nIn this example, the EPS of the \\ncompany is falling with increased use \\nof debt. It is because the Company’s \\nrate of return on investment (RoI) is \\nless than the cost of debt. The RoI \\nfor company Y is 2Lakh\\n30Lakh 100× , i.e., \\n6.67%, whereas the interest rate on \\ndebt is 10%. In such cases, the use \\nof debt reduces the EPS. This is a \\nsituation of unfavourable financial \\nleverage. Trading on Equity is clearly \\nunadvisable in such a situation.\\nEven in case of Company X, \\nreckless use of Trading on Equity is \\nnot recommended. An increase in debt \\nmay enhance the EPS but as pointed \\nout earlier, it also raises the financial \\nrisk. Ideally, a company must choose \\nthat risk-return combination which \\nmaximises shareholders’ wealth. The \\ndebt-equity mix that achieves it, is the \\noptimum capital structure.\\nFactors affecting the Choice of \\nCapital Structure\\nDeciding about the capital structure \\nof a firm involves determining the \\nrelative proportion of various types \\nof funds. This depends on various \\nCh_9.indd 229 2/6/2024 09:50:37 AM\\n2024-25\\n\\nFinancial ManageMents\\n231\\nBUsiness  stUDies\\n230\\nfactors. For example, debt requires \\nregular servicing. Interest payment \\nand repayment of principal are \\nobligatory on a business. In addition \\na company planning to raise debt \\nmust have sufficient cash to meet the \\nincreased outflows because of higher \\ndebt. Similarly, important factors \\nwhich determine the choice of capital \\nstructure are as follows:\\n1. Cash Flow Position: Size of projected \\ncash flows must be considered before \\nborrowing. Cash flows must not only \\ncover fixed cash payment obligations \\nbut there must be sufficient buffer \\nalso. It must be kept in mind that \\na company has cash payment \\nobligations for (i) normal business \\noperations; (ii) for investment in \\nfixed assets; and (iii) for meeting \\nthe debt service commitments i.e., \\npayment of interest and repayment of principal.\\n2. Interest Coverage Ratio (ICR): \\nThe interest coverage ratio refers to \\nthe number of times earnings before \\ninterest and taxes of a company covers \\nthe interest obligation. This may be \\ncalculated as follows: ICR = EBIT\\nInterest\\nThe higher the ratio, lower shall \\nbe the risk of company failing to \\nmeet its interest payment obligations. \\nHowever, this ratio is not an adequate \\nmeasure. A firm may have a high EBIT \\nbut low cash balance. Apart from \\ninterest, repayment obligations are \\nalso relevant.\\n3. Debt Service Coverage Ratio \\n(DSCR): Debt Service Coverage Ratio \\ntakes care of the deficiencies referred \\nto in the Interest Coverage Ratio (ICR). \\nThe cash profits generated by the \\noperations are compared with the total \\ncash required for the service of the \\ndebt and the preference share capital. \\nIt is calculated as follows:\\nProfit after tax + Depreciation + Interest + Non Cash exp.\\nPref. Div + Interest + Repayment obligation\\na higher DSCR indicates better \\nability to \\nmeet cash commitments \\nand consequently, the company’s \\npotential to increase debt component \\nin its capital structure.\\n4. Return on Investment (RoI): if \\nthe RoI of the company \\nis higher, it \\ncan choose to use trading on equity \\nto increase its EPS, i.e., its ability to \\nuse debt is greater. We have already \\nobserved in Example I that a firm \\ncan use more debt to increase its \\nEPS. However, in Example II, use of \\nhigher debt is reducing the EPS. It is \\nbecause the firm is earning an RoI of \\nonly 6.67% which lower than its cost \\nof debt. In example I the RoI is .33%, \\nand trading on equity is profitable. \\nIt shows that, RoI is an important \\ndeterminant of the company’s ability \\nto use Trading on equity and thus the \\ncapital structure.\\n5. Cost of debt: A firm’s ability to \\nborrow at a lower rate increases its \\ncapacity to employ higher debt. Thus, \\nmore debt can be used if debt can be \\nraised at a lower rate.\\nCh_9.indd 230 1/23/2024 03:51:23 PM\\n2024-25\\n\\nFinancial ManageMents\\n231\\nBUsiness  stUDies\\n230\\n6. Tax Rate: Since interest is a \\ndeductible expense, cost of debt is \\naffected by the tax rate. The firms in \\nour examples are borrowing @ 10%. \\nSince the tax rate is 30%, the after \\ntax cost of debt is only 7%. A higher \\ntax rate, thus, makes debt relatively \\ncheaper and increases its attraction \\nvis-à-vis equity.\\n7. Cost of Equity: Stock owners \\nexpect a rate of return from the equity \\nwhich is commensurate with the risk \\nthey are assuming. When a company \\nincreases debt, the financial risk \\nfaced by the equity holders, increases. \\nConsequently, their desired rate of \\nreturn may increase. It is for this \\nreason that a company can not use \\ndebt beyond a point. If debt is used \\nbeyond that point, cost of equity may \\ngo up sharply and share price may \\ndecrease inspite of increased EPS. \\nConsequently, for maximisation of \\nshareholders’ wealth, debt can be used \\nonly upto a level.\\n8. Floatation Costs: Process of \\nraising resources also involves some \\ncost. Public issue of shares and \\ndebentures requires considerable \\nexpenditure. Getting a loan from a \\nfinancial institution may not cost \\nso much. These considerations \\nmay also affect the choice between \\ndebt and equity and hence the capital structure.\\n9. Risk Consideration: As discussed \\nearlier, use of debt increases the \\nfinancial risk of a business. Financial \\nrisk refers to a position when a \\ncompany is unable to meet its fixed \\nfinancial charges namely interest \\npayment, preference dividend and \\nrepayment obligations. Apart from \\nthe financial risk, every business \\nhas some operating risk (also called \\nbusiness risk). Business risk depends \\nupon fixed operating costs. Higher \\nfixed operating costs result in higher \\nbusiness risk and vice-versa. The total \\nrisk depends upon both the business \\nrisk and the financial risk. If a firm’s \\nbusiness risk is lower, its capacity to \\nuse debt is higher and vice-versa.\\n10. Flexibility: If a firm uses its \\ndebt potential to the full, it loses \\nflexibility to issue further debt. To \\nmaintain flexibility, it must maintain \\nsome borrowing power to take care of \\nunforeseen circumstances.\\n11. Control: Debt normally does \\nnot cause a dilution of control. A \\npublic issue of equity may reduce the \\nmanagements’ holding in the company \\nand make it vulnerable to takeover. \\nThis factor also influences the choice \\nbetween debt and equity especially in \\ncompanies in which the current holding \\nof management is on a lower side.\\n12. Regulatory Framework:  Every \\ncompany operates within a regulatory \\nframework provided by the law e.g., \\npublic issue of shares and debentures \\nhave to be made under SEBI \\nguidelines. Raising funds from banks \\nand other financial institutions require \\nfulfillment of other norms. The relative \\nease with which these norms can, be \\nCh_9.indd 231 1/23/2024 03:51:23 PM\\n2024-25\\n\\nFinancial ManageMents\\n233\\nBUsiness  stUDies\\n232\\nmet or the procedures completed may \\nalso have a bearing upon the choice of \\nthe source of finance.\\n13. Stock Market Conditions: if the \\nstock markets are \\nbullish, equity \\nshares are more easily sold even at \\na higher price. Use of equity is often \\npreferred by companies in such a \\nsituation. However, during a bearish \\nphase, a company, may find raising \\nof equity capital more difficult and it \\nmay opt for debt. Thus, stock market \\nconditions often affect the choice \\nbetween the two.\\n14. Capital Structure of other \\nCompanies: A useful guideline in the \\ncapital structure planning is the debt-\\nequity ratios of other companies in \\nthe same industry. There are usually \\nsome industry norms which may help. \\nCare however must be taken that the \\ncompany does not follow the industry \\nnorms blindly. For example, if the \\nbusiness risk of a firm is higher, it can \\nnot afford the same financial risk. It \\nshould go in for low debt. Thus, the \\nmanagement must know what the \\nindustry norms are, whether they are \\nfollowing them or deviating from them \\nand adequate justification must be \\nthere in both cases.\\nFixed and Working caPital\\nMeaning\\nEvery company needs funds to finance \\nits assets and activities. Investment \\nis required to be made in fixed assets \\nand current assets. Fixed assets are \\nthose which remains in the business \\nfor more than one year, usually \\nfor much longer, e.g., plant and \\nmachinery, furniture and fixture, land \\nand building, vehicles, etc.\\nDecision to invest in fixed assets \\nmust be taken very carefully as the \\ninvestment is usually quite large. \\nSuch decisions once taken are \\nirrevocable except at a huge loss. \\nSuch decisions are called capital \\nbudgeting decisions.\\ncurrent assets are those assets which, in the normal routine of the \\nbusiness, get converted into cash or \\ncash equivalents within one year, e.g., \\ninventories, debtors, bills receivables, \\netc.\\nManagement of Fixed Capital\\nFixed capital refers to investment \\nin long-term assets. Management of \\nfixed capital involves allocation of \\nfirm’s capital to different projects or \\nassets with long-term implications \\nfor the business. These decisions \\nare called investment decisions or \\ncapital budgeting decisions and affect \\nthe growth, profitability and risk of \\nthe business in the long run. These \\nlong-term assets last for more than one year.\\n It must be f\\ninanced through long-term sources of capital such \\nas equity or preference shares, \\ndebentures, long-term loans and \\nretained earnings of the business. \\nFixed Assets should never be financed \\nthrough short-term sources.\\n Investment in these assets \\nwould \\nalso include expenditure on \\nCh_9.indd 232 1/23/2024 03:51:23 PM\\n2024-25\\n\\nFinancial ManageMents\\n233\\nBUsiness  stUDies\\n232\\nacquisition, expansion, modernisation \\nand their replacement. These decisions \\ninclude purchase of land, building, \\nplant and machinery, launching \\na new product line or investing in \\nadvanced techniques of production. \\nMajor expenditures such as those \\non advertising campaign or research \\nand development programme having \\nlong term implications for the firm \\nare also examples of capital budgeting \\ndecisions. The management of fixed \\ncapital or investment or capital \\nbudgeting decisions are important for \\nthe following reasons:\\n(i) Long-term growth: These \\ndecisions \\nhave bearing on the long-term \\ngrowth. The funds invested in \\nlong-term assets are likely to yield \\nreturns in the future. These will \\naffect the future prospects of the \\nbusiness.\\n(ii) Large amount of funds involved: These de\\ncisions result in a \\nsubstantial portion of capital funds \\nbeing blocked in long-term projects. \\nTherefore, these investments are \\nplanned after a detailed analysis \\nis undertaken. This may involve \\ndecisions like where to procure \\nfunds from and at what rate of \\ninterest.\\n(iii) Risk involved: Fixed capital involves \\ninvestment \\nof huge amounts. It \\naffects the returns of the firm as a \\nwhole in the long-term. Therefore, \\ninvestment decisions involving \\nfixed capital influence the overall \\nbusiness risk complexion of the firm.\\n(iv) Irreversible decisions:  these \\ndecisions \\nonce taken, are not \\nreversible without incurring heavy \\nlosses. Abandoning a project after \\nheavy investment is made is quite \\ncostly in terms of waste of funds. \\nTherefore, these decisions should \\nbe taken only after carefully \\nevaluating each detail or else the \\nadverse financial consequences \\nmay be very heavy.\\nFactors affecting the Requirement \\nof Fixed Capital\\n1. Nature of Business: \\nThe type \\nof business has a bearing upon \\nthe fixed capital requirements. For \\nexample, a trading concern needs \\nlower investment in fixed assets \\ncompared with a manufacturing \\norganisation; since it does not require \\nto purchase plant and machinery, etc.\\n2. Scale of Operations: A lar\\nger \\norganisation operating at a higher \\nscale needs bigger plant, more space \\netc. and therefore, requires higher \\ninvestment in fixed assets when \\ncompared with the small organisation.\\n3. Choice of \\nTechnique: Some \\norganisations are capital intensive \\nwhereas others are labour intensive. \\nA capital-intensive organisation \\nrequires higher investment in plant \\nand machinery as it relies less on \\nmanual labour. The requirement of \\nfixed capital for such organisations \\nwould be higher. Labour intensive \\norganisations on the other hand \\nCh_9.indd 233 1/23/2024 03:51:23 PM\\n2024-25\\n\\nFinancial ManageMents\\n235\\nBUsiness  stUDies\\n234\\nrequire less investment in fixed assets. \\nHence, their fixed capital requirement \\nis lower.\\n4. Technology Upgradation: In certain \\nindustries, assets become obsolete \\nsooner. Consequently, their replace-\\nments become due faster. Higher \\ninvestment in fixed assets may, \\ntherefore, be required in such cases. \\nFor example, computers become \\nobsolete faster and are replaced much \\nsooner than say, furniture. Thus, such \\norganisations which use assets which \\nare prone to obsolescence require \\nhigher fixed capital to purchase such \\nassets.\\n5. Growth Prospects: Higher growth \\nof an organisation generally requires \\nhigher investment in fixed assets. \\nEven when such growth is expected, \\na company may choose to create \\nhigher capacity in order to meet the \\nanticipated higher demand quicker. \\nThis entails larger investment in fixed \\nassets and consequently larger fixed \\ncapital.\\n6. Diversification: A firm may choose \\nto diversify its operations for various \\nreasons, With diversification, fixed \\ncapital requirements increase e.g., a \\ntextile company is diversifying and \\nstarting a cement manufacturing \\nplant. Obviously, its investment in \\nfixed capital will increase.\\n7. Financing Alternatives: A developed \\nfinancial market may provide leasing \\nfacilities as an alternative to outright \\npurchase. When an asset is taken on \\nlease, the firm pays lease rentals and \\nuses it. By doing so, it avoids huge sums \\nrequired to purchase it. Availability of \\nleasing facilities, thus, may reduce \\nthe funds required to be invested in \\nfixed assets, thereby reducing the fixed \\ncapital requirements. Such a strategy \\nis specially suitable in high risk lines \\nof business.\\n8. Level of Collaboration: At times, \\ncertain business organisations share \\neach other’s facilities. For example, \\na bank may use another’s ATM or \\nsome of them may jointly establish a \\nparticular facility. This is feasible if the \\nscale of operations of each one of them \\nis not sufficient to make full use of the \\nfacility. Such collaboration reduces \\nthe level of investment in fixed assets for each one of the participating \\norganisations.\\nWorking caPital\\nApart from the investment in fixed \\nassets every business organisation \\nneeds to invest in current assets. This \\ninvestment facilitates smooth day-to-\\nday operations of the business. Current \\nassets are usually more liquid but \\ncontribute less to the profits than fixed \\nassets. Examples of current assets, in \\norder of their liquidity, are as under.\\n1. Cash in hand/Cash at Bank\\n2. Marketable securities\\n3. Bills receivable\\n4. Debtors\\n5. Finished goods inventory\\nCh_9.indd 234 1/23/2024 03:51:23 PM\\n2024-25\\n\\nFinancial ManageMents\\n235\\nBUsiness  stUDies\\n234\\n6. Work in progress\\n7. Raw materials\\n8. Prepaid expenses\\nThese assets, as noted earlier, \\nare \\nexpected to get converted into cash \\nor cash equivalents within a period \\nof one year. These provide liquidity to \\nthe business. An asset is more liquid \\nif it can be converted into cash quicker \\nand without reduction in value. \\nInsufficient investment in current \\nassets may make it more difficult for \\nan organisation to meet its payment \\nobligations. However, these assets \\nprovide little or low return. Hence, a \\nbalance needs to be struck between \\nliquidity and profitability.\\nCurrent liabilities are those \\npayment obligations which are due \\nfor payment within one year; such as \\nbills payable, creditors, outstanding \\nexpenses and advances received from \\ncustomers, etc.\\nSome part of current assets is \\nusually financed through short-term \\nsources, i.e., current liabilities. The \\nrest is financed through long-term \\nsources and is called net working \\ncapital. Thus, NWC = CA – CL (i.e. \\nCurrent Assets - Current Liabilities.) \\nThus, net working capital may be \\ndefined as the excess of current assets \\nover current liabilities.\\nFactorS aFFecting the Working \\ncaPital requirementS\\n1. Nature of Business: The basic \\nnature of a business influences the \\namount of working capital required. \\nA trading organisation usually \\nneeds a smaller amount of working \\ncapital compared to a manufacturing \\norganisation. This is because there \\nis usually no processing. Therefore, \\nthere is no distinction between raw \\nmaterials and finished goods. Sales \\ncan be effected immediately upon \\nthe receipt of materials, sometimes \\neven before that. In a manufacturing \\nbusiness, however, raw material needs \\nto be converted into finished goods \\nbefore any sales become possible. \\nOther factors remaining the same, a \\ntrading business requires less working \\ncapital. Similarly, service industries \\nwhich usually do not have to maintain \\ninventory require less working capital.\\n2. Scale of Operations: For \\norganisations which operate on a \\nhigher scale of operation, the quantum \\nof inventory and debtors required is \\ngenerally high. Such organisations, \\ntherefore, require large amount of \\nworking capital as compared to the \\norganisations which operate on a lower \\nscale.\\n3. Business Cycle: Different phases of \\nbusiness cycles affect the requirement \\nof working capital by a firm. In \\ncase of a boom, the sales as well as \\nproduction are likely to be larger and, \\ntherefore, larger amount of working \\ncapital is required. As against this, \\nthe requirement for working capital \\nwill be lower during  the period of \\ndepression as the sales as well as \\nproduction will be small.\\nCh_9.indd 235 1/23/2024 03:51:23 PM\\n2024-25\\n\\nFinancial ManageMents\\n237\\nBUsiness  stUDies\\n236\\ndegrees of efficiency. For example, \\na firm managing its raw materials \\nefficiently may be able to manage with \\na smaller balance. This is reflected \\nin a higher inventory turnover ratio. \\nSimilarly, a better debtors turnover \\nratio may be achieved reducing \\nthe amount tied up in receivables. \\nBetter sales effort may reduce the \\naverage time for which finished goods \\ninventory is held. Such efficiencies \\nmay reduce the level of raw materials, \\nfinished goods and debtors resulting \\nin lower requirement of working \\ncapital.\\n9. Availability of Raw Material:  if \\nthe raw materials and other \\nrequired \\nmaterials are available freely and \\ncontinuously, lower stock levels may \\nsuffice. If, however, raw materials do \\nnot have a record of un-interrupted \\navailability, higher stock levels may \\nbe required. In addition, the time lag \\nbetween the placement of order and \\nthe actual receipt of the materials (also \\ncalled lead time) is also relevant. Larger \\nthe lead time, larger the quantity of \\nmaterial to be stored and larger shall \\nbe the amount of working capital \\nrequired.\\n10. Growth Prospects: If the growth \\npotential of a concern is perceived to \\nbe higher, it will require larger amount \\nof working capital so that it is able \\nto meet higher production and sales \\ntarget whenever required.\\n11. Level of Competition: Higher level \\nof competitiveness may necessitate \\nlarger stocks of finished goods to \\n4. Seasonal Factors: Most business \\nhave some seasonality in their \\noperations. In peak season, because of \\nhigher level of activity, larger amount \\nof working capital is required. As \\nagainst this, the level of activity as \\nwell as the requirement for working \\ncapital will be lower during the lean season.\\n5. Production Cycle: Production \\ncycle is the time span between the \\nreceipt of raw material and their \\nconversion into finished goods. Some \\nbusinesses have a longer production \\ncycle while some have a shorter \\none. Duration and the length of \\nproduction cycle, affects the amount \\nof funds required for raw materials \\nand expenses. Consequently, working \\ncapital requirement is higher in firms \\nwith longer processing cycle and lower \\nin firms with shorter processing cycle.\\n6. Credit Allowed: Different firms \\nallow different credit terms to their \\ncustomers. These depend upon the \\nlevel of competition that a firm faces \\nas well as the credit worthiness of \\ntheir clientele. A liberal credit policy \\nresults in higher amount of debtors, \\nincreasing the requirement of working \\ncapital.\\n7. Credit Availed: Just as a firm \\nallows credit to its customers it also \\nmay get credit from its suppliers. \\nTo the extent it avails the credit \\non purchases, the working capital \\nrequirement is reduced.\\n8. Operating Efficiency: Firms \\nmanage their operations with varied \\nCh_9.indd 236 1/23/2024 03:51:23 PM\\n2024-25\\n\\nFinancial ManageMents\\n237\\nBUsiness  stUDies\\n236\\nmeet urgent orders from customers. \\nThis increases the working capital \\nrequirement. Competition may also \\nforce the firm to extend liberal credit \\nterms discussed earlier.\\n12. Inflation: With rising prices, \\nlarger amounts are required even \\nto maintain a constant volume of \\nproduction and sales. The working \\ncapital requirement of a business \\nthus, become higher with higher \\nrate of inflation. It must, however, \\nbe noted that an inflation rate of 5%, \\ndoes not mean that every component \\nof working capital will change by \\nthe same percentage. The actual \\nrequirement shall depend upon the \\nrates of price change of different \\ncomponents (e.g., raw material, \\nfinished goods, labour cost,) Finished \\ngoods as well as their proportion in \\nthe total requirement.\\nkey termS\\nFinancial Management Wealth Maximisation Investment Decision\\nFinancing Decision Dividend Decision Capital Budgeting\\nWorking Capital Financial Planning Capital Structure\\nTrading on Equity\\nSUMMARY\\nBusiness finance: The money required \\nfor carrying out business activities is \\ncalled business finance. Almost all business activities require some finance. \\nFinance is needed to establish a business, to run it, to modernise it, to expand, \\nand diversify it. \\nFinancial Management: Financial Management is concerned with optimal \\nprocurement as well as usage of finance. For optimal procurement, different \\navailable sources of finance are identified and compared in terms of their costs \\nand associated risks.\\nObjectives and Financial Decisions The primary aim of financial management \\nis to maximise shareholders’ wealth which is referred to as the wealth \\nmaximisation concept. The market price of a company’s shares are linked to \\nthe three basic financial decisions\\nFinancial decision-making is concerned with three broad decisions which are \\nInvestment Decision, Financing Decision, Dividend Decision\\nFinancial Planning and Importance  Financial planning is essentially \\npreparation of a financial blueprint of an organisation’s future operations. The \\nCh_9.indd 237 1/23/24 03:51:24 PM24-25\\n\\nFinancial ManageMents\\n239\\nBUsiness  stUDies\\n238\\nobjective of financial planning is to ensure that enough funds are available at \\nright time.\\n Financial planning strives to achieve the following twin objectives.\\n (a) To ensure availability of funds whenever these are requir\\ned:\\n (b) To see that the firm does not raise resources unnecessarily:\\n Financial planning is an important \\npart of overall planning of any business \\nenterprise. It aims at enabling the company to tackle the uncertainty in respect \\nof the availability and timing of the funds and helps in smooth functioning of \\nan organisation. \\nCapital Structure and Factors One of the important decisions under financial \\nmanagement relates to the financing pattern or the proportion of the use \\nof different sources in raising funds. On the basis of ownership, the sources \\nof business finance can be broadly classified into two categories viz., ‘owners \\nfunds’ and ‘borrowed funds’. Capital structure refers to the mix between owners \\nand borrowed funds.\\n Deciding about the capital structure \\nof a firm involves determining the \\nrelative proportion of various types of funds. This depends on various factors \\nwhich are: Cash Flow Position, Interest Coverage Ratio (ICR), Debt Service \\nCoverage Ratio (DSCR), Return on Investment (RoI), Cost of debt, Tax Rate, \\nCost of Equity, Floatation Costs, Risk Consideration, Flexibility, Control, \\nRegulatory Framework, Stock Market Conditions, and Capital Structure of \\nother Companies.\\nFixed and Working Capital Fixed capital refers to investment in long-term \\nassets. Management of fixed capital involves around allocation of firm’s capital \\nto different projects or assets with long-term implications for the business. \\nThese decisions are called investment decisions or capital budgeting decisions. \\nThey affect the growth, profitability and risk of the business in the long run.\\n Facto\\nrs affecting the Requirement of Fixed Capital are: Nature of Business, \\nScale of Operations, Choice of Technique, Technology Upgradation, Growth \\nProspects, Diversification, Financing Alternatives and Level of Collaboration.\\n Apart from the in\\nvestment in fixed assets, every business organisation \\nneeds to invest in current assets. This investment facilitates smooth day-to-\\nday operations of the organisation. Current assets are usually more liquid but \\ncontribute less to the profits than fixed assets.\\n Factors affecting the working capital \\nrequirement are: Nature of Business, \\nScale of Operations, Business Cycle, Seasonal Factor, Production Cycle, Credit \\nCh_9.indd 238 1/23/2024 03:51:24 PM\\n2024-25\\n\\nFinancial ManageMents\\n239\\nBUsiness  stUDies\\n238\\nAllowed, Credit Availed, Operating Efficiency, Availability of Raw Material, \\nGrowth Prospects, Level of competition, and rate of Inflation.\\nEXERCISES\\nVery Short Answer Type\\n1. What is meant by capital structure?\\n2. Sate the two objectives of financial planning.\\n3. Name the concept of financial \\nmanagement which increases the return \\nto equity shareholders due to the presence of fixed financial charges.\\n4. Amrit is running a ‘transport \\nservice’ and earning good returns by \\nproviding this service to industries. Giving reason, state whether the \\nworking capital requirement of the firm will be ‘less’ or ‘more’.\\n5. Ramnath is into the business \\nof assembling and selling of televisions. \\nRecently he has adopted a new policy of purchasing the components on \\nthree months credit and selling the complete product in cash. Will it affect \\nthe requirement of working capital? Give reason in support of your answer.\\nShort Answer Type\\n1. What is financial risk? Why does it arise? \\n2. Define current assets? Give four examples of such assets. \\n3. What are the main objectives of financial management? Briefly explain. \\n4. Financial management is based \\non three broad financial decisions. What \\nare these?\\n5. Sunrises Ltd. dealing in readymade \\ngarments, is planning to expand \\nits business operations in order to cater to international market. For \\nthis purpose the company needs additional `80,00,000 for replacing \\nmachines with modern machinery of higher production capacity. The \\ncompany wishes to raise the required funds by issuing debentures. The \\ndebt can be issued at an estimated cost of 10%. The EBIT for the previous \\nyear of the company was `8,00,000 and total capital investment was \\n`1,00,00,000. Suggest whether issue of debenture would be considered \\na rational decision by the company. Give reason to justify your answer. \\n(Ans. No, Cost of Debt (10%) is more than ROI which is 8%).\\nCh_9.indd 239 1/23/2024 03:51:24 PM\\n2024-25\\n\\nFinancial ManageMents\\n241\\nBUsiness  stUDies\\n240\\n6. How does working capital affect both the liquidity as well as profitability \\nof a business?\\n7. Aval Ltd.\\n is engaged in the business of export of canvas goods and bags. In \\nthe past, the performance of the company had been upto the expectations. \\nIn line with the latest demand in the market, the company decided to \\nventure into leather goods for which it required specialised machinery. \\nFor this, the Finance Manager Prabhu prepared a financial blueprint \\nof the organisation’s future operations to estimate the amount of funds \\nrequired and the timings with the objective to ensure that enough funds \\nare available at right time. He also collected the relevant data about the \\nprofit estimates in the coming years. By doing this, he wanted to be sure \\nabout the availability of funds from the internal sources of the business. \\nFor the remaining funds, he is trying to find out alternative sources from \\noutside.\\na. Identify t\\nhe financial concept discussed in the above paragraph. Also, \\nstate the objectives to be achieved by the use of financial concept so \\nidentified. ( Financial Planning).\\nb. ‘There is no restriction on \\npayment of dividend by a company’. \\nComment. ( Legal & Contractual Constraints)\\nLong Answer Type\\n1. What is \\nworking capital? Discuss five important determinants of working \\ncapital requirement? \\n2. “Capital structure decision is essentially \\noptimisation of risk-return \\nrelationship.” Comment.\\n3. “A capital budgeting decision is \\ncapable of changing the financial fortunes \\nof a business.” Do you agree? Give reasons for your answer?\\n4. Explain the factors affecting dividend decision? \\n5. Explain the term ‘Trading on \\nEquity’? Why, when and how it can be used \\nby company. \\n6. ‘S’ Limited is manufacturing steel \\nat its plant in India. It is enjoying a \\nbuoyant demand for its products as economic growth is about 7–8 per \\ncent and the demand for steel is growing. It is planning to set up a new \\nsteel plant to cash on the increased demand. It is estimated that it will \\nrequire about `5000 crores to set up and about `500 crores of working \\ncapital to start the new plant.\\nCh_9.indd 240 1//2024 03:51:24 PM\\n2024-25\\n\\nFinancial ManageMents1\\nBUsiness  stUDies0\\na. Describe the role and objectives of financial management for this \\ncompany.\\nb. Explain the importance of having \\na financial plan for this company. \\nGive an imaginary plan to support your answer.\\nc. What are the factors which \\nwill affect the capital structure of this \\ncompany?\\nd. Keeping in mi\\nnd that it is a highly capital-intensive sector, what factors \\nwill affect the fixed and working capital. Give reasons in support of \\nyour answer.\\nCh_9.indd 1 1/23/20 03:51: PM\\n20-25\\n'"
            ],
            "application/vnd.google.colaboratory.intrinsic+json": {
              "type": "string"
            }
          },
          "metadata": {},
          "execution_count": 260
        }
      ]
    },
    {
      "cell_type": "code",
      "execution_count": null,
      "metadata": {
        "colab": {
          "base_uri": "https://localhost:8080/"
        },
        "id": "Qtr3kD7f1bGo",
        "outputId": "d9a2822c-d4f0-484b-a5f1-0bebafab65e6"
      },
      "outputs": [
        {
          "output_type": "stream",
          "name": "stdout",
          "text": [
            "\u001b[?25l   \u001b[90m━━━━━━━━━━━━━━━━━━━━━━━━━━━━━━━━━━━━━━━━\u001b[0m \u001b[32m0.0/209.0 kB\u001b[0m \u001b[31m?\u001b[0m eta \u001b[36m-:--:--\u001b[0m\r\u001b[2K   \u001b[91m━━━━━━━━━━━━━\u001b[0m\u001b[91m╸\u001b[0m\u001b[90m━━━━━━━━━━━━━━━━━━━━━━━━━━\u001b[0m \u001b[32m71.7/209.0 kB\u001b[0m \u001b[31m2.6 MB/s\u001b[0m eta \u001b[36m0:00:01\u001b[0m\r\u001b[2K   \u001b[90m━━━━━━━━━━━━━━━━━━━━━━━━━━━━━━━━━━━━━━━━\u001b[0m \u001b[32m209.0/209.0 kB\u001b[0m \u001b[31m3.2 MB/s\u001b[0m eta \u001b[36m0:00:00\u001b[0m\n",
            "\u001b[?25h"
          ]
        }
      ],
      "source": [
        "!pip install --quiet langchain_experimental"
      ]
    },
    {
      "cell_type": "code",
      "execution_count": null,
      "metadata": {
        "colab": {
          "base_uri": "https://localhost:8080/"
        },
        "id": "sdPfXkRf12Vi",
        "outputId": "6ce182ed-64e2-450f-d287-ba689d62908d"
      },
      "outputs": [
        {
          "output_type": "stream",
          "name": "stdout",
          "text": [
            "\u001b[33mWARNING: Retrying (Retry(total=4, connect=None, read=None, redirect=None, status=None)) after connection broken by 'ProtocolError('Connection aborted.', RemoteDisconnected('Remote end closed connection without response'))': /simple/pinecone-client/\u001b[0m\u001b[33m\n",
            "\u001b[2K   \u001b[90m━━━━━━━━━━━━━━━━━━━━━━━━━━━━━━━━━━━━━━━━\u001b[0m \u001b[32m1.2/1.2 MB\u001b[0m \u001b[31m13.3 MB/s\u001b[0m eta \u001b[36m0:00:00\u001b[0m\n",
            "\u001b[2K   \u001b[90m━━━━━━━━━━━━━━━━━━━━━━━━━━━━━━━━━━━━━━━━\u001b[0m \u001b[32m244.8/244.8 kB\u001b[0m \u001b[31m18.2 MB/s\u001b[0m eta \u001b[36m0:00:00\u001b[0m\n",
            "\u001b[2K   \u001b[90m━━━━━━━━━━━━━━━━━━━━━━━━━━━━━━━━━━━━━━━━\u001b[0m \u001b[32m85.4/85.4 kB\u001b[0m \u001b[31m7.8 MB/s\u001b[0m eta \u001b[36m0:00:00\u001b[0m\n",
            "\u001b[?25h"
          ]
        }
      ],
      "source": [
        "!pip install -qU \"langchain-pinecone>=0.2.0\""
      ]
    },
    {
      "cell_type": "code",
      "execution_count": 261,
      "metadata": {
        "id": "XyRwYN-I18XG"
      },
      "outputs": [],
      "source": [
        "import os\n",
        "from getpass import getpass\n",
        "\n",
        "os.environ[\"PINECONE_API_KEY\"] =\"pcsk_4zJuyy_8nJ1fkspfg3NmpYDeCdLR9nvorKuJW9Su4CSrsKZtBaBK5LJ2anTAaeuLTQ9f16\""
      ]
    },
    {
      "cell_type": "code",
      "execution_count": 262,
      "metadata": {
        "id": "TRMoTO0L2DEC"
      },
      "outputs": [],
      "source": [
        "from langchain_experimental.text_splitter import SemanticChunker\n",
        "from langchain_pinecone import PineconeEmbeddings\n",
        "\n",
        "embeddings = PineconeEmbeddings(model=\"multilingual-e5-large\")"
      ]
    },
    {
      "cell_type": "code",
      "execution_count": 263,
      "metadata": {
        "id": "tQDi89XM2Pdz"
      },
      "outputs": [],
      "source": [
        "from langchain_experimental.text_splitter import SemanticChunker\n",
        "\n",
        "text_splitter = SemanticChunker(embeddings)"
      ]
    },
    {
      "cell_type": "code",
      "execution_count": 264,
      "metadata": {
        "id": "F1WwjNQ72Emt"
      },
      "outputs": [],
      "source": [
        "docs = text_splitter.create_documents([combined_text])"
      ]
    },
    {
      "cell_type": "code",
      "source": [
        "%pip install -qU langchain-pinecone pinecone-notebooks"
      ],
      "metadata": {
        "id": "cAvf4htX4rdw"
      },
      "execution_count": null,
      "outputs": []
    },
    {
      "cell_type": "code",
      "source": [
        "import getpass\n",
        "import os\n",
        "import time\n",
        "\n",
        "from pinecone import Pinecone, ServerlessSpec\n",
        "\n",
        "os.environ[\"PINECONE_API_KEY\"] = \"e9ad4724-a82e-4157-9126-ef7b6da5bb36\"\n",
        "\n",
        "pinecone_api_key = os.environ.get(\"PINECONE_API_KEY\")\n",
        "\n",
        "pc = Pinecone(api_key=pinecone_api_key)"
      ],
      "metadata": {
        "id": "rjkZ3hMbETwQ"
      },
      "execution_count": 265,
      "outputs": []
    },
    {
      "cell_type": "code",
      "source": [
        "import time\n",
        "\n",
        "index_name = \"knowledge-retrival\"  # change if desired\n",
        "index = pc.Index(index_name)"
      ],
      "metadata": {
        "id": "o-7kP2ig40ow"
      },
      "execution_count": 266,
      "outputs": []
    },
    {
      "cell_type": "code",
      "source": [
        "import pinecone\n",
        "from langchain.vectorstores import Pinecone"
      ],
      "metadata": {
        "id": "Fpwh_L7RDLWy"
      },
      "execution_count": 267,
      "outputs": []
    },
    {
      "cell_type": "code",
      "source": [
        "from pinecone import Pinecone\n",
        "\n",
        "pc = Pinecone(api_key=\"e9ad4724-a82e-4157-9126-ef7b6da5bb36\")\n",
        "index = pc.Index(\"knowledge-retrival\")"
      ],
      "metadata": {
        "id": "EOV1APDn4sxu"
      },
      "execution_count": 268,
      "outputs": []
    },
    {
      "cell_type": "code",
      "source": [
        "from langchain_pinecone import PineconeVectorStore\n",
        "\n",
        "vector_store = PineconeVectorStore(index=index, embedding=embeddings)"
      ],
      "metadata": {
        "id": "nEXTzTPm4spH"
      },
      "execution_count": 298,
      "outputs": []
    },
    {
      "cell_type": "code",
      "source": [
        "from uuid import uuid4"
      ],
      "metadata": {
        "id": "aRM890fC4sXa"
      },
      "execution_count": 270,
      "outputs": []
    },
    {
      "cell_type": "code",
      "source": [
        "uuids = [str(uuid4()) for _ in range(len(docs))]"
      ],
      "metadata": {
        "id": "0Bg5h3qsEn4j"
      },
      "execution_count": 271,
      "outputs": []
    },
    {
      "cell_type": "code",
      "source": [
        "vector_store.add_documents(documents=docs, ids=uuids)"
      ],
      "metadata": {
        "colab": {
          "base_uri": "https://localhost:8080/"
        },
        "id": "rm6NNlS2En1J",
        "outputId": "183a9310-d01b-4db8-991f-c5f77e475f78",
        "collapsed": true
      },
      "execution_count": 272,
      "outputs": [
        {
          "output_type": "execute_result",
          "data": {
            "text/plain": [
              "['5e6b35eb-a60b-4ba9-8194-2d211edd6dad',\n",
              " '0fcc4bbd-e47f-4f26-8848-19072144810e',\n",
              " '29617dc3-8ab7-4a38-8f50-a026475051f6',\n",
              " '3cb1afe2-0436-4a60-9d03-ea8153bb0f4f',\n",
              " '38059a80-f801-4d58-8dd1-9b25476fdd7d',\n",
              " '2bd1e41c-8cf6-490f-b359-fa684d1f3333',\n",
              " '1f698238-a8c9-4c3a-9046-97d20cbb4688',\n",
              " '711d2414-e57d-42c1-b838-63e2dc01c15a',\n",
              " 'cafe4440-e753-4d1a-92e9-d0ea700d9251',\n",
              " 'b515ad0c-08bf-420b-8b63-94675bd6746b',\n",
              " '11bdeb58-9422-473e-9ebc-58a7ea72aa4b',\n",
              " '26dc2283-9267-4cc2-8928-96e9ca73308f',\n",
              " '7e763582-9dc0-4f0d-b388-ac3743b00b85',\n",
              " '24ddb4ca-7297-4e02-8926-77c1559a5f22',\n",
              " 'e8c5aa7e-5d9b-4a79-b87a-7b456b8d230a',\n",
              " 'cc51be9f-f7f8-4c38-aa53-83fc5d048b88',\n",
              " '8bd3c8d6-6a85-42f9-80d1-4f4f78b3296e',\n",
              " 'ab7f2e6f-4b20-41d5-abe7-40daf2e45e5b',\n",
              " '39e5a507-8573-4437-80f8-d10c07c4c64e',\n",
              " '3a886d3c-a32f-4ac9-9836-63ae57698c76',\n",
              " 'decad99d-a918-4d95-abd5-8751b1916c64',\n",
              " '5d9c2449-4325-4549-b9a6-aa8da72ce1eb',\n",
              " 'a50779ca-5b12-4ce8-878b-c3a6b25b26e6',\n",
              " 'e62e7669-8d31-497b-8f1c-895c5e64b75f',\n",
              " '5b08bd7f-c2d4-4405-beec-063e9fc7cd1a',\n",
              " 'b0e5e21d-c8c5-4d0f-b9e4-71b2ca94ed25',\n",
              " '4c816986-1a39-490c-85bf-0664d1e9f4c4',\n",
              " 'ccf112d4-9301-487f-bad1-056fc1e8c0c2',\n",
              " '4ec0bfac-7e8e-4bbe-acb3-932b1c6638c7',\n",
              " 'dea2e165-a975-4bc4-b936-2afa8d4e1426',\n",
              " '559ed9fd-4ab6-4553-99e6-ed5dc38192f5',\n",
              " 'a495947c-1e37-4b7e-9ebb-1fd9fc029899',\n",
              " 'c647333b-aa44-4d24-a89c-8ef2c2254077',\n",
              " '12dde946-1025-4c1f-9b6d-e30616f0a9bb']"
            ]
          },
          "metadata": {},
          "execution_count": 272
        }
      ]
    },
    {
      "cell_type": "code",
      "execution_count": 311,
      "metadata": {
        "id": "MrT8dqN07801"
      },
      "outputs": [],
      "source": [
        "retriever = vector_store.as_retriever()"
      ]
    },
    {
      "cell_type": "code",
      "execution_count": 313,
      "metadata": {
        "id": "f2OCLyDB8DK4"
      },
      "outputs": [],
      "source": [
        "from langchain.prompts import ChatPromptTemplate\n",
        "\n",
        "template = \"\"\"\n",
        "You are a helpful assistant that generates multiple sub-questions related to an input question.\n",
        "The goal is to break down the input into a set of sub-problems / sub-questions that can be answers in isolation. first question should be like clear understandable defination of personal finance teams used in input question , then the second question should be like asking a person's examples for clear understanding . third sub question should be like fetching any formula for user question related to any calculations .if the input question doesnt have any calculations telling part . generate subdont give third question . genarte sub queries in serail way without any extra response . queries for the input question : {question}\n",
        "only give Output (3 queries): not extra matter\n",
        "\"\"\"\n",
        "prompt_decomposition = ChatPromptTemplate.from_template(template)"
      ]
    },
    {
      "cell_type": "code",
      "execution_count": 314,
      "metadata": {
        "id": "uLWCzCnm_-n8"
      },
      "outputs": [],
      "source": [
        "from langchain_core.output_parsers import StrOutputParser\n",
        "\n",
        "# Chain\n",
        "generate_queries_decomposition = ( prompt_decomposition | llm | StrOutputParser() | (lambda x: re.split(r'\\n\\n|\\n', x)) | (lambda x: x[1:])   )\n",
        "\n",
        "# Run\n",
        "question = \"what are the factors should i consider before investing in mutual fund?\"\n",
        "questions = generate_queries_decomposition.invoke({\"question\":question})"
      ]
    },
    {
      "cell_type": "code",
      "execution_count": 315,
      "metadata": {
        "id": "FjGgSfv3AOTC",
        "colab": {
          "base_uri": "https://localhost:8080/"
        },
        "outputId": "e8194883-72d8-4174-f773-3c3726c4d6e2"
      },
      "outputs": [
        {
          "output_type": "execute_result",
          "data": {
            "text/plain": [
              "['1. What do you mean by \"mutual fund\" in the context of personal finance, and how do you define investing in one?',\n",
              " \"2. Can you provide some examples of mutual funds you're considering investing in, so we can better understand your specific situation and goals?\",\n",
              " \"3. What is the primary goal you're trying to achieve through investing in a mutual fund (e.g. saving for a specific goal, building wealth, etc.), and what risk tolerance do you have for potential losses?\"]"
            ]
          },
          "metadata": {},
          "execution_count": 315
        }
      ],
      "source": [
        "questions"
      ]
    },
    {
      "cell_type": "code",
      "execution_count": 320,
      "metadata": {
        "id": "bx0XY7rcE3by",
        "colab": {
          "base_uri": "https://localhost:8080/"
        },
        "outputId": "2aa11396-de25-431c-f6fb-8caca35eaace"
      },
      "outputs": [
        {
          "output_type": "execute_result",
          "data": {
            "text/plain": [
              "3"
            ]
          },
          "metadata": {},
          "execution_count": 320
        }
      ],
      "source": [
        "from langchain.load import dumps, loads\n",
        "\n",
        "def reciprocal_rank_fusion(results: list[list], k=60):\n",
        "    \"\"\" Reciprocal_rank_fusion that takes multiple lists of ranked documents\n",
        "        and an optional parameter k used in the RRF formula \"\"\"\n",
        "\n",
        "    # Initialize a dictionary to hold fused scores for each unique document\n",
        "    fused_scores = {}\n",
        "\n",
        "    # Iterate through each list of ranked documents\n",
        "    for docs in results:\n",
        "        # Iterate through each document in the list, with its rank (position in the list)\n",
        "        for rank, doc in enumerate(docs):\n",
        "            # Convert the document to a string format to use as a key (assumes documents can be serialized to JSON)\n",
        "            doc_str = dumps(doc)\n",
        "            # If the document is not yet in the fused_scores dictionary, add it with an initial score of 0\n",
        "            if doc_str not in fused_scores:\n",
        "                fused_scores[doc_str] = 0\n",
        "            # Retrieve the current score of the document, if any\n",
        "            previous_score = fused_scores[doc_str]\n",
        "            # Update the score of the document using the RRF formula: 1 / (rank + k)\n",
        "            fused_scores[doc_str] += 1 / (rank + k)\n",
        "\n",
        "    # Sort the documents based on their fused scores in descending order to get the final reranked results\n",
        "    reranked_results = [\n",
        "        (loads(doc), score)\n",
        "        for doc, score in sorted(fused_scores.items(), key=lambda x: x[1], reverse=True)\n",
        "    ]\n",
        "\n",
        "    # Return the reranked results as a list of tuples, each containing the document and its fused score\n",
        "    return reranked_results[0:3]\n",
        "\n",
        "retrieval_chain_rag_fusion = generate_queries_decomposition | retriever.map() | reciprocal_rank_fusion\n",
        "docs = retrieval_chain_rag_fusion.invoke({\"question\": question})\n",
        "len(docs)"
      ]
    },
    {
      "cell_type": "code",
      "source": [
        "docs[1]"
      ],
      "metadata": {
        "colab": {
          "base_uri": "https://localhost:8080/"
        },
        "id": "fg_WRNiX6-nc",
        "outputId": "1867196a-1bb6-429e-eabb-8a6a33001edc"
      },
      "execution_count": 321,
      "outputs": [
        {
          "output_type": "execute_result",
          "data": {
            "text/plain": [
              "(Document(id='c5ac239a-9730-40ed-9dc1-8e0e32c5b82b', metadata={}, page_content='What major trade-offs \\ndo you face? 2. Why is it \\ninappropriate to say “I want to make as much money on my investments as possi-\\nble”? What are you ignoring?'),\n",
              " 0.016666666666666666)"
            ]
          },
          "metadata": {},
          "execution_count": 321
        }
      ]
    },
    {
      "cell_type": "code",
      "execution_count": 322,
      "metadata": {
        "id": "hNMHZFfEGROa"
      },
      "outputs": [],
      "source": [
        "from langchain_core.runnables import RunnablePassthrough\n",
        "from operator import itemgetter\n",
        "# RAG\n",
        "template = \"\"\"Please provide a comprehensive answer to the question below from below context by following these guidelines:\n",
        "Question: {question}\n",
        "\n",
        "Definition: Begin by clearly defining the term or concept referenced in the question.\n",
        "Real-Life Examples: Illustrate your explanation with examples of real-life individuals who exemplify this concept, to enhance understanding.\n",
        "Personal Finance Calculations: If the question involves personal finance and requires calculations, please compute any relevant values and present them.\n",
        "Irrelevant Questions: If the question does not pertain to personal finance, simply respond with: 'As an AI, I cannot provide information on that topic.'\n",
        "\n",
        "\n",
        "tess\n",
        "Context: {context}\n",
        "\"\"\"\n",
        "\n",
        "prompt = ChatPromptTemplate.from_template(template)\n",
        "\n",
        "final_rag_chain = (\n",
        "    {\"context\": retrieval_chain_rag_fusion,\n",
        "     \"question\": itemgetter(\"question\")}\n",
        "    | prompt\n",
        "    | llm\n",
        "    | StrOutputParser()\n",
        ")\n",
        "ans=final_rag_chain.invoke({\"question\":question})"
      ]
    },
    {
      "cell_type": "code",
      "execution_count": 323,
      "metadata": {
        "id": "0CHKrES3IsY9",
        "colab": {
          "base_uri": "https://localhost:8080/",
          "height": 399
        },
        "outputId": "39cec081-3072-4eca-ca77-4e14e9ae2e30"
      },
      "outputs": [
        {
          "output_type": "execute_result",
          "data": {
            "text/plain": [
              "\"Before investing in a mutual fund, it's essential to consider the following factors to ensure that your investment aligns with your financial goals and risk tolerance:1. **Financial Goal**: Define your financial goal, including the quantum of funds required, the estimated time over which the funds need to be accumulated, and your current age. This will help you determine the suitable mutual fund categories and investable amounts.\\n2. **Risk Tolerance**: Assess your risk tolerance and investment horizon to decide on the level of risk you're willing to take. This will help you choose mutual funds with a suitable asset allocation and risk profile.\\n3. **Investment Horizon**: Consider your investment horizon, which is the time period for which you plan to invest. This will help you determine the suitable investment duration for your mutual funds.\\n4. **Mutual Fund Categories**: Understand the different mutual fund categories, such as Equity, Debt, Hybrid, and Balanced Funds. Each category has its own risks and returns, and it's essential to choose the right category that aligns with your financial goals and risk tolerance.\\n5. **Fund Type**: Determine the type of mutual fund you want to invest in, such as an Open-Ended Fund or a Close-Ended Fund. Each type has its own characteristics, and it's essential to understand the differences before investing.\\n6. **Minimum Holding Period**: Consider the minimum holding period for the mutual fund, which is the minimum time you're required to hold the fund before selling it. This is important to avoid penalties and ensure that you don't sell the fund during a market downturn.\\n7. **Expected CAGR**: Understand the expected Compound Annual Growth Rate (CAGR) of the mutual fund, which is the rate of return expected over a specific period.\\n8. **Fund Manager**: Research the fund manager's experience, track record, and investment style to ensure that they align with your investment goals and risk tolerance.\\n9. **Fees and Charges**: Understand the fees and charges associated with the mutual fund, including the management fee, exit load, and other expenses.\\n10. **Tax Implications**: Consider the tax implications of investing in a mutual fund, including the tax rates and the impact on your tax liability.\\n11. **Liquidity**: Ensure that the mutual fund has sufficient liquidity to meet your withdrawal needs in case of an emergency.\\n12. **Reputation and Track Record**: Research the mutual fund's reputation and track record, including its performance over different market conditions and its ability to achieve its investment objectives.By considering these factors, you can create a well-diversified mutual fund portfolio that aligns with your financial goals and risk tolerance, and helps you achieve your long-term financial objectives.\""
            ],
            "application/vnd.google.colaboratory.intrinsic+json": {
              "type": "string"
            }
          },
          "metadata": {},
          "execution_count": 323
        }
      ],
      "source": [
        "\"\".join(ans.split(\"\\n\\n\"))"
      ]
    }
  ],
  "metadata": {
    "colab": {
      "provenance": [],
      "toc_visible": true,
      "authorship_tag": "ABX9TyOrPBhXonxkb9qEdwooW7eZ",
      "include_colab_link": true
    },
    "kernelspec": {
      "display_name": "Python 3",
      "name": "python3"
    },
    "language_info": {
      "name": "python"
    }
  },
  "nbformat": 4,
  "nbformat_minor": 0
}