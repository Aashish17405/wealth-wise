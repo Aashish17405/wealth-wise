{
  "nbformat": 4,
  "nbformat_minor": 0,
  "metadata": {
    "colab": {
      "provenance": [],
      "authorship_tag": "ABX9TyO+CmQ3gEH2kpc3T7zbz4nv",
      "include_colab_link": true
    },
    "kernelspec": {
      "name": "python3",
      "display_name": "Python 3"
    },
    "language_info": {
      "name": "python"
    }
  },
  "cells": [
    {
      "cell_type": "markdown",
      "metadata": {
        "id": "view-in-github",
        "colab_type": "text"
      },
      "source": [
        "<a href=\"https://colab.research.google.com/github/NagasaiPraneeth/wealth-wise/blob/main/retrival.ipynb\" target=\"_parent\"><img src=\"https://colab.research.google.com/assets/colab-badge.svg\" alt=\"Open In Colab\"/></a>"
      ]
    },
    {
      "cell_type": "code",
      "source": [
        "!pip install langchain langchain_community\n",
        "!pip install -qU langchain-groq"
      ],
      "metadata": {
        "colab": {
          "base_uri": "https://localhost:8080/"
        },
        "collapsed": true,
        "id": "zay4xx1qFLlX",
        "outputId": "10fbd299-e421-46ad-9cc2-229f6c44670d"
      },
      "execution_count": 14,
      "outputs": [
        {
          "output_type": "stream",
          "name": "stdout",
          "text": [
            "Requirement already satisfied: langchain in /usr/local/lib/python3.10/dist-packages (0.3.7)\n",
            "Requirement already satisfied: langchain_community in /usr/local/lib/python3.10/dist-packages (0.3.7)\n",
            "Requirement already satisfied: PyYAML>=5.3 in /usr/local/lib/python3.10/dist-packages (from langchain) (6.0.2)\n",
            "Requirement already satisfied: SQLAlchemy<3,>=1.4 in /usr/local/lib/python3.10/dist-packages (from langchain) (2.0.35)\n",
            "Requirement already satisfied: aiohttp<4.0.0,>=3.8.3 in /usr/local/lib/python3.10/dist-packages (from langchain) (3.9.5)\n",
            "Requirement already satisfied: async-timeout<5.0.0,>=4.0.0 in /usr/local/lib/python3.10/dist-packages (from langchain) (4.0.3)\n",
            "Requirement already satisfied: langchain-core<0.4.0,>=0.3.15 in /usr/local/lib/python3.10/dist-packages (from langchain) (0.3.18)\n",
            "Requirement already satisfied: langchain-text-splitters<0.4.0,>=0.3.0 in /usr/local/lib/python3.10/dist-packages (from langchain) (0.3.2)\n",
            "Requirement already satisfied: langsmith<0.2.0,>=0.1.17 in /usr/local/lib/python3.10/dist-packages (from langchain) (0.1.143)\n",
            "Requirement already satisfied: numpy<2,>=1 in /usr/local/lib/python3.10/dist-packages (from langchain) (1.26.4)\n",
            "Requirement already satisfied: pydantic<3.0.0,>=2.7.4 in /usr/local/lib/python3.10/dist-packages (from langchain) (2.9.2)\n",
            "Requirement already satisfied: requests<3,>=2 in /usr/local/lib/python3.10/dist-packages (from langchain) (2.32.3)\n",
            "Requirement already satisfied: tenacity!=8.4.0,<10,>=8.1.0 in /usr/local/lib/python3.10/dist-packages (from langchain) (9.0.0)\n",
            "Requirement already satisfied: dataclasses-json<0.7,>=0.5.7 in /usr/local/lib/python3.10/dist-packages (from langchain_community) (0.6.7)\n",
            "Requirement already satisfied: httpx-sse<0.5.0,>=0.4.0 in /usr/local/lib/python3.10/dist-packages (from langchain_community) (0.4.0)\n",
            "Requirement already satisfied: pydantic-settings<3.0.0,>=2.4.0 in /usr/local/lib/python3.10/dist-packages (from langchain_community) (2.6.1)\n",
            "Requirement already satisfied: aiosignal>=1.1.2 in /usr/local/lib/python3.10/dist-packages (from aiohttp<4.0.0,>=3.8.3->langchain) (1.3.1)\n",
            "Requirement already satisfied: attrs>=17.3.0 in /usr/local/lib/python3.10/dist-packages (from aiohttp<4.0.0,>=3.8.3->langchain) (24.2.0)\n",
            "Requirement already satisfied: frozenlist>=1.1.1 in /usr/local/lib/python3.10/dist-packages (from aiohttp<4.0.0,>=3.8.3->langchain) (1.5.0)\n",
            "Requirement already satisfied: multidict<7.0,>=4.5 in /usr/local/lib/python3.10/dist-packages (from aiohttp<4.0.0,>=3.8.3->langchain) (6.1.0)\n",
            "Requirement already satisfied: yarl<2.0,>=1.0 in /usr/local/lib/python3.10/dist-packages (from aiohttp<4.0.0,>=3.8.3->langchain) (1.17.1)\n",
            "Requirement already satisfied: marshmallow<4.0.0,>=3.18.0 in /usr/local/lib/python3.10/dist-packages (from dataclasses-json<0.7,>=0.5.7->langchain_community) (3.23.1)\n",
            "Requirement already satisfied: typing-inspect<1,>=0.4.0 in /usr/local/lib/python3.10/dist-packages (from dataclasses-json<0.7,>=0.5.7->langchain_community) (0.9.0)\n",
            "Requirement already satisfied: jsonpatch<2.0,>=1.33 in /usr/local/lib/python3.10/dist-packages (from langchain-core<0.4.0,>=0.3.15->langchain) (1.33)\n",
            "Requirement already satisfied: packaging<25,>=23.2 in /usr/local/lib/python3.10/dist-packages (from langchain-core<0.4.0,>=0.3.15->langchain) (24.2)\n",
            "Requirement already satisfied: typing-extensions>=4.7 in /usr/local/lib/python3.10/dist-packages (from langchain-core<0.4.0,>=0.3.15->langchain) (4.12.2)\n",
            "Requirement already satisfied: httpx<1,>=0.23.0 in /usr/local/lib/python3.10/dist-packages (from langsmith<0.2.0,>=0.1.17->langchain) (0.27.2)\n",
            "Requirement already satisfied: orjson<4.0.0,>=3.9.14 in /usr/local/lib/python3.10/dist-packages (from langsmith<0.2.0,>=0.1.17->langchain) (3.10.11)\n",
            "Requirement already satisfied: requests-toolbelt<2.0.0,>=1.0.0 in /usr/local/lib/python3.10/dist-packages (from langsmith<0.2.0,>=0.1.17->langchain) (1.0.0)\n",
            "Requirement already satisfied: annotated-types>=0.6.0 in /usr/local/lib/python3.10/dist-packages (from pydantic<3.0.0,>=2.7.4->langchain) (0.7.0)\n",
            "Requirement already satisfied: pydantic-core==2.23.4 in /usr/local/lib/python3.10/dist-packages (from pydantic<3.0.0,>=2.7.4->langchain) (2.23.4)\n",
            "Requirement already satisfied: python-dotenv>=0.21.0 in /usr/local/lib/python3.10/dist-packages (from pydantic-settings<3.0.0,>=2.4.0->langchain_community) (1.0.1)\n",
            "Requirement already satisfied: charset-normalizer<4,>=2 in /usr/local/lib/python3.10/dist-packages (from requests<3,>=2->langchain) (3.4.0)\n",
            "Requirement already satisfied: idna<4,>=2.5 in /usr/local/lib/python3.10/dist-packages (from requests<3,>=2->langchain) (3.10)\n",
            "Requirement already satisfied: urllib3<3,>=1.21.1 in /usr/local/lib/python3.10/dist-packages (from requests<3,>=2->langchain) (2.2.3)\n",
            "Requirement already satisfied: certifi>=2017.4.17 in /usr/local/lib/python3.10/dist-packages (from requests<3,>=2->langchain) (2024.8.30)\n",
            "Requirement already satisfied: greenlet!=0.4.17 in /usr/local/lib/python3.10/dist-packages (from SQLAlchemy<3,>=1.4->langchain) (3.1.1)\n",
            "Requirement already satisfied: anyio in /usr/local/lib/python3.10/dist-packages (from httpx<1,>=0.23.0->langsmith<0.2.0,>=0.1.17->langchain) (3.7.1)\n",
            "Requirement already satisfied: httpcore==1.* in /usr/local/lib/python3.10/dist-packages (from httpx<1,>=0.23.0->langsmith<0.2.0,>=0.1.17->langchain) (1.0.6)\n",
            "Requirement already satisfied: sniffio in /usr/local/lib/python3.10/dist-packages (from httpx<1,>=0.23.0->langsmith<0.2.0,>=0.1.17->langchain) (1.3.1)\n",
            "Requirement already satisfied: h11<0.15,>=0.13 in /usr/local/lib/python3.10/dist-packages (from httpcore==1.*->httpx<1,>=0.23.0->langsmith<0.2.0,>=0.1.17->langchain) (0.14.0)\n",
            "Requirement already satisfied: jsonpointer>=1.9 in /usr/local/lib/python3.10/dist-packages (from jsonpatch<2.0,>=1.33->langchain-core<0.4.0,>=0.3.15->langchain) (3.0.0)\n",
            "Requirement already satisfied: mypy-extensions>=0.3.0 in /usr/local/lib/python3.10/dist-packages (from typing-inspect<1,>=0.4.0->dataclasses-json<0.7,>=0.5.7->langchain_community) (1.0.0)\n",
            "Requirement already satisfied: propcache>=0.2.0 in /usr/local/lib/python3.10/dist-packages (from yarl<2.0,>=1.0->aiohttp<4.0.0,>=3.8.3->langchain) (0.2.0)\n",
            "Requirement already satisfied: exceptiongroup in /usr/local/lib/python3.10/dist-packages (from anyio->httpx<1,>=0.23.0->langsmith<0.2.0,>=0.1.17->langchain) (1.2.2)\n"
          ]
        }
      ]
    },
    {
      "cell_type": "code",
      "source": [
        "import getpass\n",
        "import os\n",
        "\n",
        "os.environ[\"GROQ_API_KEY\"] = \"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\"\n",
        "\n",
        "from langchain_groq import ChatGroq\n",
        "\n",
        "llm = ChatGroq(model=\"llama3-8b-8192\")"
      ],
      "metadata": {
        "id": "f4lkGyeEFTLk"
      },
      "execution_count": 15,
      "outputs": []
    },
    {
      "cell_type": "code",
      "execution_count": 1,
      "metadata": {
        "colab": {
          "base_uri": "https://localhost:8080/"
        },
        "id": "mp-nUvj9ESId",
        "outputId": "9f90c56f-1529-40cf-9c1a-05a312989f99"
      },
      "outputs": [
        {
          "output_type": "stream",
          "name": "stdout",
          "text": [
            "\u001b[?25l   \u001b[90m━━━━━━━━━━━━━━━━━━━━━━━━━━━━━━━━━━━━━━━━\u001b[0m \u001b[32m0.0/1.2 MB\u001b[0m \u001b[31m?\u001b[0m eta \u001b[36m-:--:--\u001b[0m\r\u001b[2K   \u001b[91m━━━━━━━━━━━━━━━━━━━━━━━━━\u001b[0m\u001b[90m╺\u001b[0m\u001b[90m━━━━━━━━━━━━━━\u001b[0m \u001b[32m0.8/1.2 MB\u001b[0m \u001b[31m23.3 MB/s\u001b[0m eta \u001b[36m0:00:01\u001b[0m\r\u001b[2K   \u001b[90m━━━━━━━━━━━━━━━━━━━━━━━━━━━━━━━━━━━━━━━━\u001b[0m \u001b[32m1.2/1.2 MB\u001b[0m \u001b[31m19.3 MB/s\u001b[0m eta \u001b[36m0:00:00\u001b[0m\n",
            "\u001b[?25h\u001b[?25l   \u001b[90m━━━━━━━━━━━━━━━━━━━━━━━━━━━━━━━━━━━━━━━━\u001b[0m \u001b[32m0.0/244.8 kB\u001b[0m \u001b[31m?\u001b[0m eta \u001b[36m-:--:--\u001b[0m\r\u001b[2K   \u001b[90m━━━━━━━━━━━━━━━━━━━━━━━━━━━━━━━━━━━━━━━━\u001b[0m \u001b[32m244.8/244.8 kB\u001b[0m \u001b[31m13.8 MB/s\u001b[0m eta \u001b[36m0:00:00\u001b[0m\n",
            "\u001b[?25h\u001b[?25l   \u001b[90m━━━━━━━━━━━━━━━━━━━━━━━━━━━━━━━━━━━━━━━━\u001b[0m \u001b[32m0.0/85.4 kB\u001b[0m \u001b[31m?\u001b[0m eta \u001b[36m-:--:--\u001b[0m\r\u001b[2K   \u001b[90m━━━━━━━━━━━━━━━━━━━━━━━━━━━━━━━━━━━━━━━━\u001b[0m \u001b[32m85.4/85.4 kB\u001b[0m \u001b[31m4.9 MB/s\u001b[0m eta \u001b[36m0:00:00\u001b[0m\n",
            "\u001b[?25h"
          ]
        }
      ],
      "source": [
        "%pip install -qU langchain-pinecone pinecone-notebooks"
      ]
    },
    {
      "cell_type": "code",
      "source": [
        "import getpass\n",
        "import os\n",
        "import time\n",
        "\n",
        "from pinecone import Pinecone, ServerlessSpec\n",
        "\n",
        "os.environ[\"PINECONE_API_KEY\"] = \"e9ad4724-a82e-4157-9126-ef7b6da5bb36\"\n",
        "\n",
        "pinecone_api_key = os.environ.get(\"PINECONE_API_KEY\")\n",
        "\n",
        "pc = Pinecone(api_key=pinecone_api_key)"
      ],
      "metadata": {
        "id": "ki7T6fsYE3wC"
      },
      "execution_count": 2,
      "outputs": []
    },
    {
      "cell_type": "code",
      "source": [
        "from langchain_pinecone import PineconeEmbeddings\n",
        "\n",
        "embeddings = PineconeEmbeddings(model=\"multilingual-e5-large\")"
      ],
      "metadata": {
        "id": "3Hh5tpuVF7RA"
      },
      "execution_count": 11,
      "outputs": []
    },
    {
      "cell_type": "code",
      "source": [
        "import pinecone\n",
        "from langchain.vectorstores import Pinecone\n",
        "from pinecone import Pinecone\n",
        "\n",
        "pc = Pinecone(api_key=\"e9ad4724-a82e-4157-9126-ef7b6da5bb36\")\n",
        "index = pc.Index(\"knowledge-retrival\")"
      ],
      "metadata": {
        "id": "LRbsnkfsE76V"
      },
      "execution_count": 9,
      "outputs": []
    },
    {
      "cell_type": "code",
      "source": [
        "from langchain_pinecone import PineconeVectorStore\n",
        "\n",
        "vector_store = PineconeVectorStore(index=index, embedding=embeddings)"
      ],
      "metadata": {
        "id": "EbRCXSQ9FxsG"
      },
      "execution_count": 18,
      "outputs": []
    },
    {
      "cell_type": "code",
      "source": [
        "retriever = vector_store.as_retriever()"
      ],
      "metadata": {
        "id": "bmMFmcM1GCHV"
      },
      "execution_count": 13,
      "outputs": []
    },
    {
      "cell_type": "code",
      "source": [
        "query = \"give me steps to follow to invest iin stock market. \"\n",
        "\n",
        "vector_store.similarity_search(\n",
        "    query,  # our search query\n",
        "    k=3  # return 3 most relevant docs\n",
        ")\n"
      ],
      "metadata": {
        "colab": {
          "base_uri": "https://localhost:8080/"
        },
        "id": "37mnyr0aSShO",
        "outputId": "3a839943-6a79-4aa0-e4c5-9659fe714b4a"
      },
      "execution_count": 32,
      "outputs": [
        {
          "output_type": "execute_result",
          "data": {
            "text/plain": [
              "[Document(id='bc6f61fa-675a-4bb4-a0ed-af32712ecce1', metadata={}, page_content='Invest to secure your future\\n2. The corpus that you intend to build at the end of the defined period is sensitive to the rate of \\nreturn the investment generates. A small variation to rate can have a big impact on the corpus\\n3. Choose an instrument that best suits your risk and return appetite\\n4. Equity should be a part of your investment if you want to beat the inflation in the long run           8 \\n∏\\n2.1 - What is a stock market? • Investing in equities is an important investment that we make in order to generate inflation \\nbeating returns. This was the conclusion we drew from the previous chapter. Having said that, \\nhow do we go about investing in equities? Clearly before we dwell further into this topic, it is ex-\\ntremely important to understand the ecosystem in which equities operate. Just like the way we go to the neighborhood kirana store or a super market to shop for our daily \\nneeds, similarly we go to the stock market to shop (read as transact) for equity investments. Stock market is where everyone who wants to transact in shares go to. Transact in simple terms \\nmeans buying and selling. For all practical purposes, you can’t buy/sell shares of a public com-\\npany like Infosys without transacting through the stock markets. The main purpose of the stock market is to help you facilitate your transactions. So if you are a \\nbuyer of a share, the stock market helps you meet the seller and vice versa. Now unlike a super market, the stock market does not exist in a brick and mortar form. It exists in \\nelectronic form. You access the market electronically from your computer and go about conduct-\\ning your transactions (buying and selling of shares). Regulators \\n9\\nCHAPTER 2\\n\\n\\nAlso, it is important to note that you can access the stock market via a registered intermediary \\ncalled the stock broker. We will discuss more about the stock brokers at a later point. There are two main stock exchanges in India that make up the stock markets. They are the Bom-\\nbay Stock Exchange (BSE) and the National Stock Exchange (NSE). Besides these two exchanges \\nthere are a bunch of other regional stock exchanges like Bangalore Stock Exchange, Madras Stock \\nExchange that are more or less getting phased out and don’t really play any meaningful role any-\\nmore. 2.2 - Stock Market Participants and the need to regulate them\\nThe stock market attracts individuals and corporations from diverse backgrounds. Anyone who \\ntransacts in the stock market is called a market participant. The market participant can be classi-\\nfied into various categories. Some of the categories of market participants are as follows:\\n1. Domestic Retail Participants – These are people like you and me transacting in markets\\n2. NRI’s and OCI – These are people of Indian origin but based outside India\\n3. Domestic Institutions – These are large corporate entities based in India. Classic example \\nwould be the LIC of India. 4. Domestic Asset Management Companies (AMC) – Typical participants in this category \\nwould be the mutual fund companies such as SBI Mutual Fund, DSP Black Rock, Fidelity \\nInvestments, HDFC AMC etc. 5. Foreign Institutional Investors – Non Indian corporate entities. These could be foreign \\nasset management companies, hedge funds and other investors\\nNow, irrespective of the category of market participant the agenda for everyone is the same – to \\nmake profitable transactions.'),\n",
              " Document(id='3e5a1280-941c-4ef1-97da-8ff35e1364fc', metadata={}, page_content='I will explain them in \\ngreater detail as and when we proceed. However, do keep these assumptions in the \\nback of your mind: \\no Buy strength and sell weakness – Strength is represented by a bullish (blue) \\ncandle and weakness by a bearish (red) candle. Hence whenever you are buying \\nensure it is a blue candle day and whenever you are selling, ensure it’s a red candle \\nday. o Be flexible with patterns (quantify and verify) – While the text book definition of \\na pattern could state a certain criteria, there could be minor variations to the \\npattern owing to market conditions. So one needs to be a bit flexible. However one \\nneeds to be flexible within limits, and hence it is required to always quantify the \\nflexibility. o Look for a prior trend – If you are looking at a bullish pattern, the prior trend \\nshould be bearish and likewise if you are looking for a bearish pattern, the prior \\ntrend should be bullish. In the next chapter, we will begin with learning about single candlestick patterns.'),\n",
              " Document(id='1c3bb76c-262f-48cd-87a0-1d7b8045f0fd', metadata={}, page_content='42\\n6.4\\nHow does the stock get traded ? 44\\n6.5\\nWhat happens after you own a stock ? 45\\n6.6\\nA note on the holding period\\n45\\n6.7\\nHow to calculate returns ? 46\\n6.8\\nWhere do you fit in ? 47\\n7\\nThe Stock Markets Index\\n50\\n7.1\\nOverview\\n50\\n7.2\\nThe Index\\n51\\n7.3\\nPractical uses of the Index\\n51\\n7.4\\nIndex construction methodology\\n53\\n7.5\\nSector specific indices\\n57\\n8\\nCommonly used Jargons\\n59\\n9\\nThe Trading Terminal \\n9.1\\nOverview\\n65\\n65\\n9.2\\nThe Login Process\\n66\\n9.3\\nThe Market Watch\\n66\\n9.4\\nBuying a stock through the trading terminal\\n69\\n9.5\\nThe order book and Trade book\\n7\\n9.6\\nThe Bid and Ask price\\n75\\n9.7\\nConclusion\\n770\\nClearing and Settlement process\\n790. Overview\\n790.2\\nWhat happens when you buy a stock\\n800.3\\nWhat happens when you sell a stock\\n82\\nFive corporate actions and its impact on stock prices\\n84. Overview\\n84.2\\nDividends\\n85.3\\nBonus Issue\\n86.4\\nStock split\\n87.5\\nRights issue\\n88.6\\nBuyback of shares\\n88  2 Key Events and Their Impact on Markets\\n 2. Overview2.2 Monetary policy2.3 Inflation2.4 Index of Industrial Production2.5 Purchasing Manager index2.6 Budget2.7 Corporate Earnings Announcement\\n9\\n9\\n92\\n93\\n94\\n95\\n95\\n96\\n13\\nGetting started\\n99\\n13.1\\nSo many modules - how are they interrelated\\n100\\n1.1 - Why should one Invest? Before we address the above question, let us understand what would happen if one choose not \\nto invest. Let us assume you earn Rs.50,000/- per month and you spend Rs.0,000/- towards your \\ncost of living which includes housing, food, transport, shopping, medical etc. The balance of \\nRs.20,000/- is your monthly surplus. For the sake of simplicity, let us just ignore the eﬀect of per-\\nsonal income tax in this discussion.')]"
            ]
          },
          "metadata": {},
          "execution_count": 32
        }
      ]
    },
    {
      "cell_type": "code",
      "source": [
        "from langchain.chains import RetrievalQA\n",
        "\n",
        "qa = RetrievalQA.from_chain_type(\n",
        "    llm=llm,\n",
        "    chain_type=\"stuff\",\n",
        "    retriever=vector_store.as_retriever()\n",
        ")\n",
        "\n",
        "qa.run(query)"
      ],
      "metadata": {
        "colab": {
          "base_uri": "https://localhost:8080/",
          "height": 235
        },
        "id": "_TGfsIgiSFf8",
        "outputId": "e975440a-bbea-4735-ce03-847ea64f23c4"
      },
      "execution_count": 34,
      "outputs": [
        {
          "output_type": "execute_result",
          "data": {
            "text/plain": [
              "\"Based on the provided context, here are the steps to follow to invest in the stock market:\\n\\n1. Understand the ecosystem: Before investing, it's essential to understand the stock market and its participants. Familiarize yourself with the concept of a stock market, its purpose, and the different types of market participants.\\n2. Choose an instrument: Consider your risk and return appetite and choose an instrument that suits you. Equity investments can help you beat inflation in the long run.\\n3. Select a stock: Once you've chosen an instrument, select a stock that aligns with your investment goals and risk tolerance. You can access the stock market electronically or through a registered intermediary called a stock broker.\\n4. Open a trading account: To start investing, you need to open a trading account with a stock broker. This will enable you to buy and sell shares.\\n5. Fund your account: Deposit funds into your trading account to start investing. You can fund your account through various methods, such as online banking, cheques, or cash deposits.\\n6. Place an order: Once your account is funded, you can place an order to buy or sell shares. You can use online trading platforms or mobile apps to place orders.\\n7. Monitor your investments: Keep track of your investments and monitor their performance regularly. This will help you to make informed decisions about buying or selling shares.\\n8. Be patient and flexible: Investing in the stock market requires patience and flexibility. Be prepared to hold onto your investments for the long term and adjust your strategy as market conditions change.\\n\\nAdditionally, it's essential to:\\n\\n* Understand the risks involved in stock market investing\\n* Educate yourself about investing and stay updated with market news and trends\\n* Diversify your portfolio to minimize risk\\n* Set clear investment goals and risk tolerance\\n* Avoid emotional decisions based on market fluctuations\\n\\nRemember, investing in the stock market involves risks, and it's essential to be informed and prepared before making any investment decisions.\""
            ],
            "application/vnd.google.colaboratory.intrinsic+json": {
              "type": "string"
            }
          },
          "metadata": {},
          "execution_count": 34
        }
      ]
    }
  ]
}